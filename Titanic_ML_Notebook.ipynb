{
 "cells": [
  {
   "cell_type": "markdown",
   "metadata": {},
   "source": [
    "# Kaggle - Titanic - Machine Learning from Disaster"
   ]
  },
  {
   "cell_type": "markdown",
   "metadata": {},
   "source": [
    "A task as part of my data science class:\n",
    "\n",
    "Requirements:\n",
    "\n",
    "1. Add at least 2 new features to the dataset (explain your reasoning below)\n",
    "2. Use KNN (and only KNN) to predict survival\n",
    "3. Explain your process below and choice of K\n",
    "4. Make a submission to the competition and provide a link to your submission below.\n",
    "5. Show your code below"
   ]
  },
  {
   "cell_type": "markdown",
   "metadata": {},
   "source": [
    "Lets start by reading in our data"
   ]
  },
  {
   "cell_type": "code",
   "execution_count": 103,
   "metadata": {},
   "outputs": [],
   "source": [
    "import pandas as pd\n",
    "\n",
    "train_Data_DF = pd.read_csv(\"./Data/train.csv\")\n",
    "test_Data_DF = pd.read_csv(\"./Data/test.csv\")"
   ]
  },
  {
   "cell_type": "markdown",
   "metadata": {},
   "source": [
    "Lets feature engineer to add to new columns:\n",
    "\n",
    "- Title from Name: \n",
    "\n",
    "    Lets Extract titles (Mr, Mrs, Miss, Master, etc.) from the passenger names. The title can indicate social status, gender, and marital status, which might correlate with survival chances. For example, women (Mrs, Miss) and nobility (titles indicating a higher social rank) might have had higher priority for lifeboats.\n",
    "\n",
    "- Family Size: \n",
    "\n",
    "    Lets Combine SibSp (number of siblings/spouses aboard) and Parch (number of parents/children aboard) to create a new feature that represents the total number of family members on board. This could affect survival as those with families might have prioritized keeping their family together or ensuring their family's safety over their own.\n",
    "\n",
    "- IsAlone: \n",
    "\n",
    "    The intuition behind creating an IsAlone feature is that the survival chances might differ between passengers who were traveling alone and those who were with family. Being alone or with family could impact a passenger's mobility, decision-making, and access to resources during the evacuation.\n",
    "\n"
   ]
  },
  {
   "cell_type": "code",
   "execution_count": 104,
   "metadata": {},
   "outputs": [],
   "source": [
    "# Extract titles from the Name column\n",
    "train_Data_DF['Title'] = train_Data_DF['Name'].str.extract(' ([A-Za-z]+)\\.', expand=False)\n",
    "test_Data_DF['Title'] = test_Data_DF['Name'].str.extract(' ([A-Za-z]+)\\.', expand=False)\n"
   ]
  },
  {
   "cell_type": "markdown",
   "metadata": {},
   "source": [
    "- train_Data_DF['Name'] accesses the Name column in the training DataFrame.\n",
    "\n",
    "- .str.extract(' ([A-Za-z]+)\\.', expand=False) applies the regular expression to each name, extracting the title.\n",
    "    - (space): The search starts after a space, ensuring we don't start extracting from the beginning of the Lastname.\n",
    "\n",
    "    - ([A-Za-z]+): This part captures one or more (+) alphabetical characters (A-Za-z). This is where the title will be matched, as titles are made up of letters only.\n",
    "    \n",
    "    - \\.: This looks for a literal period (.). Titles in the dataset are followed by a period (e.g., \"Mr.\"), making this a reliable way to end the capture.\n",
    "\n",
    "- The extracted title is then assigned to a new column in the DataFrame called 'Title'."
   ]
  },
  {
   "cell_type": "code",
   "execution_count": 105,
   "metadata": {},
   "outputs": [],
   "source": [
    "for df in [train_Data_DF, test_Data_DF]:\n",
    "    df['Title'] = df['Title'].replace(['Lady', 'Countess','Capt', 'Col',\\\n",
    "                                       'Don', 'Dr', 'Major', 'Rev', 'Sir', 'Jonkheer', 'Dona'], 'Rare')\n",
    "\n",
    "    df['Title'] = df['Title'].replace('Mlle', 'Miss')\n",
    "    df['Title'] = df['Title'].replace('Ms', 'Miss')\n",
    "    df['Title'] = df['Title'].replace('Mme', 'Mrs')\n"
   ]
  },
  {
   "cell_type": "markdown",
   "metadata": {},
   "source": [
    "The code provided does a few things:\n",
    "\n",
    "- It first replaces rare titles (like 'Lady', 'Countess', 'Capt', 'Col', etc.) with 'Rare'. This groups various titles of nobility or uncommon professional titles into a single 'Rare' category, acknowledging their unique status without overcomplicating the model.\n",
    "\n",
    "- It replaces titles with their common equivalents, such as converting 'Mlle' and 'Ms' to 'Miss', and 'Mme' (Madame) to 'Mrs', to ensure consistency in the dataset."
   ]
  },
  {
   "cell_type": "code",
   "execution_count": 106,
   "metadata": {},
   "outputs": [],
   "source": [
    "for df in [train_Data_DF, test_Data_DF]:\n",
    "    df['FamilySize'] = df['SibSp'] + df['Parch'] + 1"
   ]
  },
  {
   "cell_type": "markdown",
   "metadata": {},
   "source": [
    "FamilySize is a combination of SibSp and Parch plus 1 (for the passenger themselves). This feature can be useful to understand if having family members on board affects a passenger's survival rate."
   ]
  },
  {
   "cell_type": "code",
   "execution_count": 107,
   "metadata": {},
   "outputs": [],
   "source": [
    "for df in [train_Data_DF, test_Data_DF]:\n",
    "    df['IsAlone'] = 0 # Initially, assume no passengers are alone\n",
    "    df.loc[df['FamilySize'] == 1, 'IsAlone'] = 1 # If FamilySize is 1, the passenger is alone\n"
   ]
  },
  {
   "cell_type": "markdown",
   "metadata": {},
   "source": [
    "- df['IsAlone'] = 0 initializes a new column IsAlone for every passenger in the DataFrame, setting it to 0 by default, indicating that passengers are not alone.\n",
    "\n",
    "- df.loc[df['FamilySize'] == 1, 'IsAlone'] = 1 this line looks for passengers whose FamilySize equals 1—meaning they have no family members aboard—and sets their IsAlone status to 1, indicating they are traveling alone.\n"
   ]
  },
  {
   "cell_type": "markdown",
   "metadata": {},
   "source": [
    "### Applying One-Hot Encoding to the Titanic Dataset"
   ]
  },
  {
   "cell_type": "markdown",
   "metadata": {},
   "source": [
    "One-hot encoding is a common method to convert categorical data into a numerical format. It creates new columns for each category of the variable, with a 1 indicating the presence of the category and 0 indicating its absence for each row. This is particularly useful for non-ordinal categorical variables where no inherent order exists between the categories (e.g., Embarked)."
   ]
  },
  {
   "cell_type": "markdown",
   "metadata": {},
   "source": [
    "The Sex column can be easily converted into numeric format because it typically has two categories (male and female)."
   ]
  },
  {
   "cell_type": "code",
   "execution_count": 108,
   "metadata": {},
   "outputs": [],
   "source": [
    "train_Data_DF = pd.get_dummies(train_Data_DF, columns=['Sex'], drop_first=True)\n",
    "test_Data_DF = pd.get_dummies(test_Data_DF, columns=['Sex'], drop_first=True)"
   ]
  },
  {
   "cell_type": "markdown",
   "metadata": {},
   "source": [
    "drop_first=True is used to avoid redundancy. For binary categories like Sex, you only need one column where, for example, 1 could represent male and 0 could represent female."
   ]
  },
  {
   "cell_type": "code",
   "execution_count": 109,
   "metadata": {},
   "outputs": [],
   "source": [
    "train_Data_DF = pd.concat([train_Data_DF, pd.get_dummies(train_Data_DF['Title'], prefix='Title')], axis=1)\n",
    "test_Data_DF = pd.concat([test_Data_DF, pd.get_dummies(test_Data_DF['Title'], prefix='Title')], axis=1)"
   ]
  },
  {
   "cell_type": "markdown",
   "metadata": {},
   "source": [
    "- pd.concat([...], axis=1): The pd.concat() function is used to concatenate pandas objects along a particular axis. Here's what the parameters mean:\n",
    "\n",
    "    - The first parameter is a list of DataFrames to concatenate. In this case, we concatenate the original DataFrame (train_Data_DF or test_Data_DF) with the new DataFrame of dummy variables created from the Title column.\n",
    "\n",
    "    - axis=1 tells pandas to concatenate columns, not rows. When concatenating DataFrames, axis=0 would stack the DataFrames on top of each other, increasing the number of rows. axis=1 places the new columns from the second DataFrame (the one-hot encoded titles) alongside the existing columns of the first DataFrame.\n"
   ]
  },
  {
   "cell_type": "code",
   "execution_count": 110,
   "metadata": {},
   "outputs": [],
   "source": [
    "train_Data_DF = pd.get_dummies(train_Data_DF, columns=['Embarked'], prefix='Embarked')\n",
    "test_Data_DF = pd.get_dummies(test_Data_DF, columns=['Embarked'], prefix='Embarked')\n"
   ]
  },
  {
   "cell_type": "code",
   "execution_count": 111,
   "metadata": {},
   "outputs": [
    {
     "name": "stdout",
     "output_type": "stream",
     "text": [
      "   PassengerId  Survived  Pclass  \\\n",
      "0            1         0       3   \n",
      "1            2         1       1   \n",
      "2            3         1       3   \n",
      "3            4         1       1   \n",
      "4            5         0       3   \n",
      "5            6         0       3   \n",
      "6            7         0       1   \n",
      "7            8         0       3   \n",
      "8            9         1       3   \n",
      "9           10         1       2   \n",
      "\n",
      "                                                Name   Age  SibSp  Parch  \\\n",
      "0                            Braund, Mr. Owen Harris  22.0      1      0   \n",
      "1  Cumings, Mrs. John Bradley (Florence Briggs Th...  38.0      1      0   \n",
      "2                             Heikkinen, Miss. Laina  26.0      0      0   \n",
      "3       Futrelle, Mrs. Jacques Heath (Lily May Peel)  35.0      1      0   \n",
      "4                           Allen, Mr. William Henry  35.0      0      0   \n",
      "5                                   Moran, Mr. James   NaN      0      0   \n",
      "6                            McCarthy, Mr. Timothy J  54.0      0      0   \n",
      "7                     Palsson, Master. Gosta Leonard   2.0      3      1   \n",
      "8  Johnson, Mrs. Oscar W (Elisabeth Vilhelmina Berg)  27.0      0      2   \n",
      "9                Nasser, Mrs. Nicholas (Adele Achem)  14.0      1      0   \n",
      "\n",
      "             Ticket     Fare Cabin  ... IsAlone  Sex_male  Title_Master  \\\n",
      "0         A/5 21171   7.2500   NaN  ...       0         1             0   \n",
      "1          PC 17599  71.2833   C85  ...       0         0             0   \n",
      "2  STON/O2. 3101282   7.9250   NaN  ...       1         0             0   \n",
      "3            113803  53.1000  C123  ...       0         0             0   \n",
      "4            373450   8.0500   NaN  ...       1         1             0   \n",
      "5            330877   8.4583   NaN  ...       1         1             0   \n",
      "6             17463  51.8625   E46  ...       1         1             0   \n",
      "7            349909  21.0750   NaN  ...       0         1             1   \n",
      "8            347742  11.1333   NaN  ...       0         0             0   \n",
      "9            237736  30.0708   NaN  ...       0         0             0   \n",
      "\n",
      "   Title_Miss  Title_Mr  Title_Mrs  Title_Rare  Embarked_C  Embarked_Q  \\\n",
      "0           0         1          0           0           0           0   \n",
      "1           0         0          1           0           1           0   \n",
      "2           1         0          0           0           0           0   \n",
      "3           0         0          1           0           0           0   \n",
      "4           0         1          0           0           0           0   \n",
      "5           0         1          0           0           0           1   \n",
      "6           0         1          0           0           0           0   \n",
      "7           0         0          0           0           0           0   \n",
      "8           0         0          1           0           0           0   \n",
      "9           0         0          1           0           1           0   \n",
      "\n",
      "   Embarked_S  \n",
      "0           1  \n",
      "1           0  \n",
      "2           1  \n",
      "3           1  \n",
      "4           1  \n",
      "5           0  \n",
      "6           1  \n",
      "7           1  \n",
      "8           1  \n",
      "9           0  \n",
      "\n",
      "[10 rows x 22 columns]\n"
     ]
    }
   ],
   "source": [
    "print(train_Data_DF.head(10))"
   ]
  },
  {
   "cell_type": "code",
   "execution_count": 112,
   "metadata": {},
   "outputs": [],
   "source": [
    "train_Data_DF = train_Data_DF.drop('Cabin', axis=1)\n",
    "test_Data_DF = test_Data_DF.drop('Cabin', axis=1)"
   ]
  },
  {
   "cell_type": "markdown",
   "metadata": {},
   "source": [
    "Dropping the cabin column for now as its very nuanced."
   ]
  },
  {
   "cell_type": "markdown",
   "metadata": {},
   "source": [
    "### Applying KNN - K Nearest Neighbors"
   ]
  },
  {
   "cell_type": "code",
   "execution_count": 113,
   "metadata": {},
   "outputs": [],
   "source": [
    "# Step 1: Preparing the data\n",
    "# Dropping non-numeric and target columns\n",
    "X = train_Data_DF.drop(['PassengerId', 'Name', 'Ticket', 'Survived','Title'], axis=1)\n",
    "y = train_Data_DF['Survived']"
   ]
  },
  {
   "cell_type": "markdown",
   "metadata": {},
   "source": [
    "Imputation involves filling in missing values with substitute values, such as the mean, median, or mode of the column. This allows you to retain all your data points, which is often preferable for maintaining dataset integrity and size.\n",
    "\n",
    "For numerical columns like Age and Fare, we can use the median or mean."
   ]
  },
  {
   "cell_type": "code",
   "execution_count": 114,
   "metadata": {},
   "outputs": [
    {
     "name": "stdout",
     "output_type": "stream",
     "text": [
      "\n",
      "Number of null values in each column after imputation:\n",
      " Pclass          0\n",
      "Age             0\n",
      "SibSp           0\n",
      "Parch           0\n",
      "Fare            0\n",
      "FamilySize      0\n",
      "IsAlone         0\n",
      "Sex_male        0\n",
      "Title_Master    0\n",
      "Title_Miss      0\n",
      "Title_Mr        0\n",
      "Title_Mrs       0\n",
      "Title_Rare      0\n",
      "Embarked_C      0\n",
      "Embarked_Q      0\n",
      "Embarked_S      0\n",
      "dtype: int64\n"
     ]
    }
   ],
   "source": [
    "from sklearn.impute import SimpleImputer\n",
    "\n",
    "# Initialize the imputer for numeric data\n",
    "num_imputer = SimpleImputer(strategy='median')\n",
    "\n",
    "# Assuming 'Age' and 'Fare' are the only numeric columns with missing values\n",
    "X[['Age', 'Fare']] = num_imputer.fit_transform(X[['Age', 'Fare']])\n",
    "\n",
    "# Now, there shouldn't be any NaN values in the dataset, but let's verify:\n",
    "null_counts = X.isnull().sum()\n",
    "print(\"\\nNumber of null values in each column after imputation:\\n\", null_counts)"
   ]
  },
  {
   "cell_type": "code",
   "execution_count": 115,
   "metadata": {},
   "outputs": [],
   "source": [
    "from sklearn.model_selection import train_test_split\n",
    "from sklearn.neighbors import KNeighborsClassifier\n",
    "from sklearn.preprocessing import StandardScaler\n",
    "import matplotlib.pyplot as plt\n",
    "import numpy as np\n",
    "\n",
    "# Splitting the training dataset into training and testing sets\n",
    "X_train, X_test, y_train, y_test = train_test_split(X, y, test_size=0.2, random_state=1)\n",
    "\n",
    "# Standardizing the data\n",
    "scaler = StandardScaler()\n",
    "X_train_scaled = scaler.fit_transform(X_train)\n",
    "X_test_scaled = scaler.transform(X_test)\n",
    "\n",
    "# Step 2: Initializing lists to store accuracies\n",
    "train_accuracies = []\n",
    "test_accuracies = []\n",
    "\n",
    "# Step 3: Iterating over different values of K\n",
    "for K in range(1, 21):\n",
    "    knn = KNeighborsClassifier(n_neighbors=K)\n",
    "    knn.fit(X_train_scaled, y_train)\n",
    "    \n",
    "    # Recording accuracies\n",
    "    train_accuracy = knn.score(X_train_scaled, y_train)\n",
    "    test_accuracy = knn.score(X_test_scaled, y_test)\n",
    "    train_accuracies.append(train_accuracy)\n",
    "    test_accuracies.append(test_accuracy)\n"
   ]
  },
  {
   "cell_type": "code",
   "execution_count": 116,
   "metadata": {},
   "outputs": [
    {
     "data": {
      "image/png": "[encoded data removed]",
      "text/plain": [
       "<Figure size 1000x600 with 1 Axes>"
      ]
     },
     "metadata": {},
     "output_type": "display_data"
    }
   ],
   "source": [
    "# Step 4: Plotting accuracies\n",
    "plt.figure(figsize=(10, 6))\n",
    "plt.plot(range(1, 21), train_accuracies, label='Training Accuracy')\n",
    "plt.plot(range(1, 21), test_accuracies, label='Testing Accuracy')\n",
    "plt.title('K-NN Varying number of neighbors')\n",
    "plt.xlabel('Number of Neighbors (K)')\n",
    "plt.ylabel('Accuracy')\n",
    "plt.xticks(np.arange(1, 21, 1))\n",
    "plt.legend()\n",
    "plt.grid(True)\n",
    "plt.show()"
   ]
  },
  {
   "cell_type": "markdown",
   "metadata": {},
   "source": [
    "the peaks are around 3 or 9. Since both give similar testing accuracy, we prefer the higher K (9) as it may help the model generalize better by considering more neighbors."
   ]
  },
  {
   "cell_type": "markdown",
   "metadata": {},
   "source": [
    "### Applying Model to Testing Data"
   ]
  },
  {
   "cell_type": "markdown",
   "metadata": {},
   "source": [
    "Lets pre-process the testing data to match the training data to start."
   ]
  },
  {
   "cell_type": "code",
   "execution_count": 117,
   "metadata": {},
   "outputs": [],
   "source": [
    "X_test_real = test_Data_DF.drop(['PassengerId', 'Name', 'Ticket', 'Title'], axis=1)"
   ]
  },
  {
   "cell_type": "code",
   "execution_count": 118,
   "metadata": {},
   "outputs": [
    {
     "name": "stdout",
     "output_type": "stream",
     "text": [
      "   Pclass   Age  SibSp  Parch     Fare  FamilySize  IsAlone  Sex_male  \\\n",
      "0       3  34.5      0      0   7.8292           1        1         1   \n",
      "1       3  47.0      1      0   7.0000           2        0         0   \n",
      "2       2  62.0      0      0   9.6875           1        1         1   \n",
      "3       3  27.0      0      0   8.6625           1        1         1   \n",
      "4       3  22.0      1      1  12.2875           3        0         0   \n",
      "5       3  14.0      0      0   9.2250           1        1         1   \n",
      "6       3  30.0      0      0   7.6292           1        1         0   \n",
      "7       2  26.0      1      1  29.0000           3        0         1   \n",
      "8       3  18.0      0      0   7.2292           1        1         0   \n",
      "9       3  21.0      2      0  24.1500           3        0         1   \n",
      "\n",
      "   Title_Master  Title_Miss  Title_Mr  Title_Mrs  Title_Rare  Embarked_C  \\\n",
      "0             0           0         1          0           0           0   \n",
      "1             0           0         0          1           0           0   \n",
      "2             0           0         1          0           0           0   \n",
      "3             0           0         1          0           0           0   \n",
      "4             0           0         0          1           0           0   \n",
      "5             0           0         1          0           0           0   \n",
      "6             0           1         0          0           0           0   \n",
      "7             0           0         1          0           0           0   \n",
      "8             0           0         0          1           0           1   \n",
      "9             0           0         1          0           0           0   \n",
      "\n",
      "   Embarked_Q  Embarked_S  \n",
      "0           1           0  \n",
      "1           0           1  \n",
      "2           1           0  \n",
      "3           0           1  \n",
      "4           0           1  \n",
      "5           0           1  \n",
      "6           1           0  \n",
      "7           0           1  \n",
      "8           0           0  \n",
      "9           0           1  \n"
     ]
    }
   ],
   "source": [
    "print(X_test_real.head(10))"
   ]
  },
  {
   "cell_type": "code",
   "execution_count": 119,
   "metadata": {},
   "outputs": [
    {
     "name": "stdout",
     "output_type": "stream",
     "text": [
      "\n",
      "Number of null values in each column after imputation:\n",
      " Pclass          0\n",
      "Age             0\n",
      "SibSp           0\n",
      "Parch           0\n",
      "Fare            0\n",
      "FamilySize      0\n",
      "IsAlone         0\n",
      "Sex_male        0\n",
      "Title_Master    0\n",
      "Title_Miss      0\n",
      "Title_Mr        0\n",
      "Title_Mrs       0\n",
      "Title_Rare      0\n",
      "Embarked_C      0\n",
      "Embarked_Q      0\n",
      "Embarked_S      0\n",
      "dtype: int64\n"
     ]
    }
   ],
   "source": [
    "# Use the imputer that was already fit to the training data\n",
    "# Don't call fit again, just transform\n",
    "X_test_real[['Age', 'Fare']] = num_imputer.transform(X_test_real[['Age', 'Fare']])\n",
    "\n",
    "# Only call transform on the test data, do not re-fit\n",
    "# It's crucial that the transform method (and not fit_transform) \n",
    "# is used on the actual test dataset because you want to apply the \n",
    "# exact same scaling that you applied to your training data.\n",
    "X_test_real_scaled = scaler.transform(X_test_real)\n",
    "\n",
    "# Now, there shouldn't be any NaN values in the dataset, but let's verify:\n",
    "null_counts = X_test_real.isnull().sum()\n",
    "print(\"\\nNumber of null values in each column after imputation:\\n\", null_counts)"
   ]
  },
  {
   "cell_type": "code",
   "execution_count": 120,
   "metadata": {},
   "outputs": [
    {
     "data": {
      "text/html": [
       "<style>#sk-container-id-5 {color: black;}#sk-container-id-5 pre{padding: 0;}#sk-container-id-5 div.sk-toggleable {background-color: white;}#sk-container-id-5 label.sk-toggleable__label {cursor: pointer;display: block;width: 100%;margin-bottom: 0;padding: 0.3em;box-sizing: border-box;text-align: center;}#sk-container-id-5 label.sk-toggleable__label-arrow:before {content: \"▸\";float: left;margin-right: 0.25em;color: #696969;}#sk-container-id-5 label.sk-toggleable__label-arrow:hover:before {color: black;}#sk-container-id-5 div.sk-estimator:hover label.sk-toggleable__label-arrow:before {color: black;}#sk-container-id-5 div.sk-toggleable__content {max-height: 0;max-width: 0;overflow: hidden;text-align: left;background-color: #f0f8ff;}#sk-container-id-5 div.sk-toggleable__content pre {margin: 0.2em;color: black;border-radius: 0.25em;background-color: #f0f8ff;}#sk-container-id-5 input.sk-toggleable__control:checked~div.sk-toggleable__content {max-height: 200px;max-width: 100%;overflow: auto;}#sk-container-id-5 input.sk-toggleable__control:checked~label.sk-toggleable__label-arrow:before {content: \"▾\";}#sk-container-id-5 div.sk-estimator input.sk-toggleable__control:checked~label.sk-toggleable__label {background-color: #d4ebff;}#sk-container-id-5 div.sk-label input.sk-toggleable__control:checked~label.sk-toggleable__label {background-color: #d4ebff;}#sk-container-id-5 input.sk-hidden--visually {border: 0;clip: rect(1px 1px 1px 1px);clip: rect(1px, 1px, 1px, 1px);height: 1px;margin: -1px;overflow: hidden;padding: 0;position: absolute;width: 1px;}#sk-container-id-5 div.sk-estimator {font-family: monospace;background-color: #f0f8ff;border: 1px dotted black;border-radius: 0.25em;box-sizing: border-box;margin-bottom: 0.5em;}#sk-container-id-5 div.sk-estimator:hover {background-color: #d4ebff;}#sk-container-id-5 div.sk-parallel-item::after {content: \"\";width: 100%;border-bottom: 1px solid gray;flex-grow: 1;}#sk-container-id-5 div.sk-label:hover label.sk-toggleable__label {background-color: #d4ebff;}#sk-container-id-5 div.sk-serial::before {content: \"\";position: absolute;border-left: 1px solid gray;box-sizing: border-box;top: 0;bottom: 0;left: 50%;z-index: 0;}#sk-container-id-5 div.sk-serial {display: flex;flex-direction: column;align-items: center;background-color: white;padding-right: 0.2em;padding-left: 0.2em;position: relative;}#sk-container-id-5 div.sk-item {position: relative;z-index: 1;}#sk-container-id-5 div.sk-parallel {display: flex;align-items: stretch;justify-content: center;background-color: white;position: relative;}#sk-container-id-5 div.sk-item::before, #sk-container-id-5 div.sk-parallel-item::before {content: \"\";position: absolute;border-left: 1px solid gray;box-sizing: border-box;top: 0;bottom: 0;left: 50%;z-index: -1;}#sk-container-id-5 div.sk-parallel-item {display: flex;flex-direction: column;z-index: 1;position: relative;background-color: white;}#sk-container-id-5 div.sk-parallel-item:first-child::after {align-self: flex-end;width: 50%;}#sk-container-id-5 div.sk-parallel-item:last-child::after {align-self: flex-start;width: 50%;}#sk-container-id-5 div.sk-parallel-item:only-child::after {width: 0;}#sk-container-id-5 div.sk-dashed-wrapped {border: 1px dashed gray;margin: 0 0.4em 0.5em 0.4em;box-sizing: border-box;padding-bottom: 0.4em;background-color: white;}#sk-container-id-5 div.sk-label label {font-family: monospace;font-weight: bold;display: inline-block;line-height: 1.2em;}#sk-container-id-5 div.sk-label-container {text-align: center;}#sk-container-id-5 div.sk-container {/* jupyter's `normalize.less` sets `[hidden] { display: none; }` but bootstrap.min.css set `[hidden] { display: none !important; }` so we also need the `!important` here to be able to override the default hidden behavior on the sphinx rendered scikit-learn.org. See: https://github.com/scikit-learn/scikit-learn/issues/21755 */display: inline-block !important;position: relative;}#sk-container-id-5 div.sk-text-repr-fallback {display: none;}</style><div id=\"sk-container-id-5\" class=\"sk-top-container\"><div class=\"sk-text-repr-fallback\"><pre>KNeighborsClassifier(n_neighbors=9)</pre><b>In a Jupyter environment, please rerun this cell to show the HTML representation or trust the notebook. <br />On GitHub, the HTML representation is unable to render, please try loading this page with nbviewer.org.</b></div><div class=\"sk-container\" hidden><div class=\"sk-item\"><div class=\"sk-estimator sk-toggleable\"><input class=\"sk-toggleable__control sk-hidden--visually\" id=\"sk-estimator-id-5\" type=\"checkbox\" checked><label for=\"sk-estimator-id-5\" class=\"sk-toggleable__label sk-toggleable__label-arrow\">KNeighborsClassifier</label><div class=\"sk-toggleable__content\"><pre>KNeighborsClassifier(n_neighbors=9)</pre></div></div></div></div></div>"
      ],
      "text/plain": [
       "KNeighborsClassifier(n_neighbors=9)"
      ]
     },
     "execution_count": 120,
     "metadata": {},
     "output_type": "execute_result"
    }
   ],
   "source": [
    "# Train the model on the full training dataset\n",
    "knn_final = KNeighborsClassifier(n_neighbors=9)\n",
    "knn_final.fit(X, y)  # X and y are the full preprocessed training data"
   ]
  },
  {
   "cell_type": "code",
   "execution_count": 121,
   "metadata": {},
   "outputs": [
    {
     "name": "stderr",
     "output_type": "stream",
     "text": [
      "/Users/rsudhir/anaconda3/lib/python3.11/site-packages/sklearn/base.py:464: UserWarning: X does not have valid feature names, but KNeighborsClassifier was fitted with feature names\n",
      "  warnings.warn(\n"
     ]
    }
   ],
   "source": [
    "# Predict survival on the test dataset\n",
    "predictions = knn_final.predict(X_test_real_scaled)\n",
    "submission_df = pd.DataFrame({'PassengerId': test_Data_DF['PassengerId'], 'Survived': predictions})\n",
    "submission_df.to_csv('submission.csv', index=False)"
   ]
  }
 ],
 "metadata": {
  "kernelspec": {
   "display_name": "base",
   "language": "python",
   "name": "python3"
  },
  "language_info": {
   "codemirror_mode": {
    "name": "ipython",
    "version": 3
   },
   "file_extension": ".py",
   "mimetype": "text/x-python",
   "name": "python",
   "nbconvert_exporter": "python",
   "pygments_lexer": "ipython3",
   "version": "3.11.4"
  },
  "orig_nbformat": 4
 },
 "nbformat": 4,
 "nbformat_minor": 2
}
