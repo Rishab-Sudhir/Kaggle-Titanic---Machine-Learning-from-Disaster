{
 "cells": [
  {
   "cell_type": "markdown",
   "metadata": {},
   "source": [
    "# Kaggle - Titanic - Machine Learning from Disaster - Part 2"
   ]
  },
  {
   "cell_type": "markdown",
   "metadata": {},
   "source": [
    "In this exercise you will update your submission to the titanic competition.\n",
    "\n",
    "a) First let's add new numerical features / columns to the datasets that might be related to the survival of individuals.\n",
    "\n",
    "- `has_cabin` should have a value of 0 if the `cabin` feature is `nan` and 1 otherwise\n",
    "- `family_members` should have the total number of family members (by combining `SibSp` and `Parch`)\n",
    "- `title_type`: from the title extracted from the name, we will categorize it into 2 types: `common` for titles that many passengers have, `rare` for titles that few passengers have. Map `common` to 1 and `rare` to 0. Describe what threshold you used to define `common` and `rare` titles and how you found it.\n",
    "- `fare_type`: using Kmeans clustering on the fare column, find an appropriate number of clusters / groups of similar fares. Using the clusters you created, `fare_price` should be an ordinal variable that represents the expensiveness of the fare. For example if you split fare into 3 clusters ( 0 - 15, 15 - 40, and 40+ ) then the `fare_price` value should be `0` for `fare` values 0 - 15, `1` for 15 - 40, and `2` for 40+.\n",
    "- Create an addition two numerical features of your invention that you think could be relevant to the survival of individuals.\n",
    "\n",
    "Note: The features must be numerical because the sklearn `DecisionTreeClassifier` can only take on numerical features."
   ]
  },
  {
   "cell_type": "code",
   "execution_count": 199,
   "metadata": {},
   "outputs": [],
   "source": [
    "import pandas as pd\n",
    "import numpy as np\n",
    "\n",
    "train_Data_DF = pd.read_csv(\"./Data/train.csv\")\n",
    "test_Data_DF = pd.read_csv(\"./Data/test.csv\")"
   ]
  },
  {
   "cell_type": "markdown",
   "metadata": {},
   "source": [
    "- The has_cabin feature could tell us whether having a cabin or not influenced whether a person survived or not.\n",
    "\n",
    "- Family_members is a combination of SibSp and Parch plus 1 (for the passenger themselves). This feature can be useful to understand if having family members on board affects a passenger's survival rate."
   ]
  },
  {
   "cell_type": "code",
   "execution_count": 200,
   "metadata": {},
   "outputs": [],
   "source": [
    "for df in [train_Data_DF, test_Data_DF]:\n",
    "     # Set 'has_cabin' to 1 if 'Cabin' is not null, 0 otherwise\n",
    "    df['has_cabin'] = np.where(df['Cabin'].notnull(), 1, 0)\n",
    "    df['FamilySize'] = df['SibSp'] + df['Parch'] + 1"
   ]
  },
  {
   "cell_type": "markdown",
   "metadata": {},
   "source": [
    "For title_type like last time we'll use regex first to extract them:\n",
    "\n",
    "- train_Data_DF['Name'] accesses the Name column in the training DataFrame.\n",
    "\n",
    "- .str.extract(' ([A-Za-z]+)\\.', expand=False) applies the regular expression to each name, extracting the title.\n",
    "    - (space): The search starts after a space, ensuring we don't start extracting from the beginning of the Lastname.\n",
    "\n",
    "    - ([A-Za-z]+): This part captures one or more (+) alphabetical characters (A-Za-z). This is where the title will be matched, as titles are made up of letters only.\n",
    "    \n",
    "    - \\.: This looks for a literal period (.). Titles in the dataset are followed by a period (e.g., \"Mr.\"), making this a reliable way to end the capture.\n",
    "\n",
    "- The extracted title is then assigned to a new column in the DataFrame called 'Title'.\n",
    "\n"
   ]
  },
  {
   "cell_type": "code",
   "execution_count": 201,
   "metadata": {},
   "outputs": [],
   "source": [
    "# Extract titles from the Name column\n",
    "train_Data_DF['Title'] = train_Data_DF['Name'].str.extract(' ([A-Za-z]+)\\.', expand=False)\n",
    "test_Data_DF['Title'] = test_Data_DF['Name'].str.extract(' ([A-Za-z]+)\\.', expand=False)"
   ]
  },
  {
   "cell_type": "code",
   "execution_count": 202,
   "metadata": {},
   "outputs": [],
   "source": [
    "for df in [train_Data_DF, test_Data_DF]:\n",
    "    df['Title'] = df['Title'].replace(['Lady', 'Countess','Capt', 'Col',\\\n",
    "                                       'Don', 'Dr', 'Major', 'Rev', 'Sir', 'Jonkheer', 'Dona', 'Master'], 'Rare')\n",
    "\n",
    "    df['Title'] = df['Title'].replace('Mlle', 'Miss')\n",
    "    df['Title'] = df['Title'].replace('Ms', 'Miss')\n",
    "    df['Title'] = df['Title'].replace('Mme', 'Mrs')\n",
    "    df['Title'] = df['Title'].replace(['Miss', 'Mrs', 'Mr'], 'Common')"
   ]
  },
  {
   "cell_type": "markdown",
   "metadata": {},
   "source": [
    "The code provided does a few things (same as the first notebook):\n",
    "\n",
    "- It first replaces rare titles (like 'Lady', 'Countess', 'Capt', 'Col', etc.) with 'Rare'. This groups various titles of nobility or uncommon professional titles into a single 'Rare' category, acknowledging their unique status without overcomplicating the model.\n",
    "\n",
    "- It replaces titles with their common equivalents, such as converting 'Mlle' and 'Ms' to 'Miss', and 'Mme' (Madame) to 'Mrs', to ensure consistency in the dataset.\n",
    "\n",
    "- The distinction is that we are combining the titles into either rare or common as per the requirements. However I do think slightly more variation would benefit the model."
   ]
  },
  {
   "cell_type": "markdown",
   "metadata": {},
   "source": [
    "### Kmeans Clustering on Fare"
   ]
  },
  {
   "cell_type": "markdown",
   "metadata": {},
   "source": [
    "First the distinction on fare type and fare price:\n",
    "\n",
    "- fare_type: This column represents the cluster labels assigned by the KMeans algorithm based on the Fare value for each passenger. These labels are integers (0, 1, 2, ..., N-1, where N is the number of clusters) that indicate the cluster each passenger's fare belongs to. However, these labels are assigned based on the clustering algorithm's internal logic and do not necessarily correspond to the ordinal ranking of the fare amounts. For example, cluster 0 could correspond to the highest fare values, cluster 1 to the lowest, and cluster 2 to the medium, depending on how the clustering algorithm groups the data.\n",
    "\n",
    "- fare_price: This column is derived from the fare_type labels and represents an ordinal variable that ranks the expensiveness of the fare from least to most expensive. The transformation from fare_type to fare_price involves sorting the cluster centers (average fare values of each cluster) to understand which cluster corresponds to which level of fare expensiveness. Then, a mapping is applied to convert the cluster labels (fare_type) into a meaningful ordinal sequence (fare_price). This means if cluster 2 has the lowest average fare, it would be mapped to 0 in fare_price, indicating the least expensive tier of fares.\n",
    "\n",
    "In essence, fare_type is an intermediate step that assigns each passenger to a cluster based on fare, but it doesn't inherently order these clusters by the average fare within them. fare_price takes the additional step of ordering these clusters to create a meaningful, ordinal categorization of fare expensiveness.\n",
    "\n"
   ]
  },
  {
   "cell_type": "code",
   "execution_count": 203,
   "metadata": {},
   "outputs": [],
   "source": [
    "from sklearn.cluster import KMeans\n",
    "import matplotlib.pyplot as plt\n",
    "\n",
    "\n",
    "# Step 1: Determine the number of clusters using the elbow method\n",
    "# Extract the Fare column values as a matrix\n",
    "fare_values_train = train_Data_DF['Fare'].values.reshape(-1, 1)\n",
    "\n"
   ]
  },
  {
   "cell_type": "markdown",
   "metadata": {},
   "source": [
    "### What is Inertia?\n",
    "Inertia, in the context of KMeans, quantifies how far away the points within a cluster are from their centroid. A lower inertia value indicates that the points in each cluster are closer to each other and to their respective centroid, suggesting a better fit of the model to the data. However, as the number of clusters k increases, inertia naturally decreases because the clusters get smaller and their centers are closer to the points within them.\n",
    "\n",
    "### Purpose of Calculating Inertia for Different k Values\n",
    "The purpose of calculating and plotting the inertia for different k values is to apply the elbow method to determine the optimal number of clusters. When you plot the inertias (y-axis) against the number of clusters k (x-axis), you look for an \"elbow\" point where the rate of decrease of inertia sharply changes. Before this point, adding more clusters significantly reduces inertia, suggesting that the additional cluster provides a better fit to the data. After this point, the reduction in inertia slows down, indicating that additional clusters do not contribute as much to explaining the data variance and might lead to overfitting."
   ]
  },
  {
   "cell_type": "code",
   "execution_count": 204,
   "metadata": {},
   "outputs": [
    {
     "name": "stderr",
     "output_type": "stream",
     "text": [
      "/Users/rsudhir/anaconda3/lib/python3.11/site-packages/sklearn/cluster/_kmeans.py:1412: FutureWarning: The default value of `n_init` will change from 10 to 'auto' in 1.4. Set the value of `n_init` explicitly to suppress the warning\n",
      "  super()._check_params_vs_input(X, default_n_init=10)\n",
      "/Users/rsudhir/anaconda3/lib/python3.11/site-packages/sklearn/cluster/_kmeans.py:1412: FutureWarning: The default value of `n_init` will change from 10 to 'auto' in 1.4. Set the value of `n_init` explicitly to suppress the warning\n",
      "  super()._check_params_vs_input(X, default_n_init=10)\n",
      "/Users/rsudhir/anaconda3/lib/python3.11/site-packages/sklearn/cluster/_kmeans.py:1412: FutureWarning: The default value of `n_init` will change from 10 to 'auto' in 1.4. Set the value of `n_init` explicitly to suppress the warning\n",
      "  super()._check_params_vs_input(X, default_n_init=10)\n",
      "/Users/rsudhir/anaconda3/lib/python3.11/site-packages/sklearn/cluster/_kmeans.py:1412: FutureWarning: The default value of `n_init` will change from 10 to 'auto' in 1.4. Set the value of `n_init` explicitly to suppress the warning\n",
      "  super()._check_params_vs_input(X, default_n_init=10)\n",
      "/Users/rsudhir/anaconda3/lib/python3.11/site-packages/sklearn/cluster/_kmeans.py:1412: FutureWarning: The default value of `n_init` will change from 10 to 'auto' in 1.4. Set the value of `n_init` explicitly to suppress the warning\n",
      "  super()._check_params_vs_input(X, default_n_init=10)\n",
      "/Users/rsudhir/anaconda3/lib/python3.11/site-packages/sklearn/cluster/_kmeans.py:1412: FutureWarning: The default value of `n_init` will change from 10 to 'auto' in 1.4. Set the value of `n_init` explicitly to suppress the warning\n",
      "  super()._check_params_vs_input(X, default_n_init=10)\n",
      "/Users/rsudhir/anaconda3/lib/python3.11/site-packages/sklearn/cluster/_kmeans.py:1412: FutureWarning: The default value of `n_init` will change from 10 to 'auto' in 1.4. Set the value of `n_init` explicitly to suppress the warning\n",
      "  super()._check_params_vs_input(X, default_n_init=10)\n",
      "/Users/rsudhir/anaconda3/lib/python3.11/site-packages/sklearn/cluster/_kmeans.py:1412: FutureWarning: The default value of `n_init` will change from 10 to 'auto' in 1.4. Set the value of `n_init` explicitly to suppress the warning\n",
      "  super()._check_params_vs_input(X, default_n_init=10)\n",
      "/Users/rsudhir/anaconda3/lib/python3.11/site-packages/sklearn/cluster/_kmeans.py:1412: FutureWarning: The default value of `n_init` will change from 10 to 'auto' in 1.4. Set the value of `n_init` explicitly to suppress the warning\n",
      "  super()._check_params_vs_input(X, default_n_init=10)\n"
     ]
    }
   ],
   "source": [
    "# Calculate the sum of squared distances for different numbers of clusters\n",
    "ssd = []\n",
    "for k in range(1, 10):\n",
    "    kmeans = KMeans(n_clusters=k, random_state=42)\n",
    "    kmeans.fit(fare_values_train)\n",
    "    ssd.append(kmeans.inertia_)"
   ]
  },
  {
   "cell_type": "code",
   "execution_count": 205,
   "metadata": {},
   "outputs": [
    {
     "data": {
      "image/png": "[encoded data removed]",
      "text/plain": [
       "<Figure size 640x480 with 1 Axes>"
      ]
     },
     "metadata": {},
     "output_type": "display_data"
    }
   ],
   "source": [
    "# Plot the elbow curve\n",
    "plt.plot(range(1, 10), ssd)\n",
    "plt.xlabel('Number of clusters')\n",
    "plt.ylabel('Sum of squared distances')\n",
    "plt.title('Elbow Method for Optimal K')\n",
    "plt.show()"
   ]
  },
  {
   "cell_type": "markdown",
   "metadata": {},
   "source": [
    "At around 4 clusters the change of ssd starts to diminish and increasing clusters at that point may lead to overfitting."
   ]
  },
  {
   "cell_type": "code",
   "execution_count": 206,
   "metadata": {},
   "outputs": [
    {
     "name": "stderr",
     "output_type": "stream",
     "text": [
      "/Users/rsudhir/anaconda3/lib/python3.11/site-packages/sklearn/cluster/_kmeans.py:1412: FutureWarning: The default value of `n_init` will change from 10 to 'auto' in 1.4. Set the value of `n_init` explicitly to suppress the warning\n",
      "  super()._check_params_vs_input(X, default_n_init=10)\n"
     ]
    }
   ],
   "source": [
    "# Step 2: Fit KMeans with the chosen number of clusters (e.g., 3 clusters)\n",
    "kmeans = KMeans(n_clusters=4, random_state=42)\n",
    "kmeans.fit(fare_values_train)\n",
    "\n",
    "train_Data_DF['fare_type'] = kmeans.predict(fare_values_train)\n"
   ]
  },
  {
   "cell_type": "code",
   "execution_count": 207,
   "metadata": {},
   "outputs": [],
   "source": [
    "from sklearn.impute import SimpleImputer\n",
    "\n",
    "# Apply the same transformation to the test data\n",
    "# Test data has missing values so have to fill in those values\n",
    "# using the median to try and avoid affecting the data too much\n",
    "\n",
    "imputer = SimpleImputer(strategy=\"median\")\n",
    "\n",
    "# Fit the imputer on the training data\n",
    "# on the training data to avoid data leakage\n",
    "imputer.fit(train_Data_DF['Fare'].values.reshape(-1, 1))\n",
    "\n",
    "fare_values_test = imputer.transform(test_Data_DF['Fare'].values.reshape(-1, 1))\n",
    "test_Data_DF['fare_type'] = kmeans.predict(fare_values_test)"
   ]
  },
  {
   "cell_type": "code",
   "execution_count": 208,
   "metadata": {},
   "outputs": [
    {
     "name": "stdout",
     "output_type": "stream",
     "text": [
      "{0: 0, 1: 1, 2: 2, 3: 3}\n"
     ]
    }
   ],
   "source": [
    "# Step 3: Sort the clusters and map them to ordinal values\n",
    "# Get the cluster centers and sort by fare\n",
    "sorted_centers = sorted(kmeans.cluster_centers_.flatten())\n",
    "\n",
    "# Map the cluster labels to ordinal values\n",
    "# basically creating a relationshio between the original\n",
    "# cluster label and the new ranking\n",
    "ordinal_mapping = {sorted_centers.index(center): rank for rank, center in enumerate(sorted_centers)}\n",
    "print(ordinal_mapping)"
   ]
  },
  {
   "cell_type": "markdown",
   "metadata": {},
   "source": [
    "In the case where ordinal_mapping is {0: 0, 1: 1, 2: 2, 3: 3}, it seems like a direct mapping because the cluster labels already coincide with their sorted order based on the fare. However, the mapping ensures that regardless of how the cluster labels were originally assigned by KMeans, each passenger's fare is categorized correctly according to the expensiveness ranking determined by the sorted cluster centers."
   ]
  },
  {
   "cell_type": "code",
   "execution_count": 209,
   "metadata": {},
   "outputs": [
    {
     "name": "stdout",
     "output_type": "stream",
     "text": [
      "      Fare  fare_type  fare_price\n",
      "0   7.2500          0           0\n",
      "1  71.2833          2           2\n",
      "2   7.9250          0           0\n",
      "3  53.1000          2           2\n",
      "4   8.0500          0           0\n",
      "      Fare  fare_type  fare_price\n",
      "0   7.8292          0           0\n",
      "1   7.0000          0           0\n",
      "2   9.6875          0           0\n",
      "3   8.6625          0           0\n",
      "4  12.2875          0           0\n"
     ]
    }
   ],
   "source": [
    "# Apply the ordinal mapping to both training and test datasets\n",
    "train_Data_DF['fare_price'] = train_Data_DF['fare_type'].map(ordinal_mapping)\n",
    "test_Data_DF['fare_price'] = test_Data_DF['fare_type'].map(ordinal_mapping)\n",
    "\n",
    "# Check the mapping\n",
    "print(train_Data_DF[['Fare', 'fare_type', 'fare_price']].head())\n",
    "print(test_Data_DF[['Fare', 'fare_type', 'fare_price']].head())"
   ]
  },
  {
   "cell_type": "markdown",
   "metadata": {},
   "source": [
    "Now lets check what the ranges are."
   ]
  },
  {
   "cell_type": "code",
   "execution_count": 210,
   "metadata": {},
   "outputs": [
    {
     "name": "stdout",
     "output_type": "stream",
     "text": [
      "                min       max\n",
      "fare_type                    \n",
      "0            0.0000   42.4000\n",
      "1          146.5208  263.0000\n",
      "2           46.9000  135.6333\n",
      "3          512.3292  512.3292\n"
     ]
    }
   ],
   "source": [
    "# Group the data by 'fare_type' (cluster label)\n",
    "grouped = train_Data_DF.groupby('fare_type')\n",
    "\n",
    "# Calculate min and max 'Fare' for each cluster\n",
    "fare_ranges = grouped['Fare'].agg(['min', 'max'])\n",
    "\n",
    "print(fare_ranges)"
   ]
  },
  {
   "cell_type": "markdown",
   "metadata": {},
   "source": [
    "When looking at the ranges, it seems 4 clusters may be overfitting? As the fourth cluster seems to be for a single point.\n",
    "\n",
    "Let me add columns for the mean Fare and the count of passengers (count) in each cluster,to provide a more comprehensive overview of the fare distribution within each cluster identified by KMeans model."
   ]
  },
  {
   "cell_type": "code",
   "execution_count": 211,
   "metadata": {},
   "outputs": [
    {
     "name": "stdout",
     "output_type": "stream",
     "text": [
      "                min       max        mean  count\n",
      "fare_type                                       \n",
      "0            0.0000   42.4000   15.053373    720\n",
      "1          146.5208  263.0000  204.948064     28\n",
      "2           46.9000  135.6333   75.571339    140\n",
      "3          512.3292  512.3292  512.329200      3\n"
     ]
    }
   ],
   "source": [
    "fare_stats = grouped['Fare'].agg(['min', 'max', 'mean', 'count'])\n",
    "print(fare_stats)"
   ]
  },
  {
   "cell_type": "markdown",
   "metadata": {},
   "source": [
    "The fourth cluster, with only 3 data points and a significantly higher fare mean, represents outliers or a very distinct group of fares (in this case, the maximum fare of 512.3292). Since it does contain information about a few high value passengers it may be useful to keep."
   ]
  },
  {
   "cell_type": "markdown",
   "metadata": {},
   "source": [
    "### 2 more numerical columns"
   ]
  },
  {
   "cell_type": "markdown",
   "metadata": {},
   "source": [
    "is alone like last time:\n",
    "- df['IsAlone'] = 0 initializes a new column IsAlone for every passenger in the DataFrame, setting it to 0 by default, indicating that passengers are not alone.\n",
    "\n",
    "- df.loc[df['FamilySize'] == 1, 'IsAlone'] = 1 this line looks for passengers whose FamilySize equals 1—meaning they have no family members aboard—and sets their IsAlone status to 1, indicating they are traveling alone.\n"
   ]
  },
  {
   "cell_type": "code",
   "execution_count": 212,
   "metadata": {},
   "outputs": [],
   "source": [
    "for df in [train_Data_DF, test_Data_DF]:\n",
    "    df['IsAlone'] = 0 # Initially, assume no passengers are alone\n",
    "    df.loc[df['FamilySize'] == 1, 'IsAlone'] = 1 # If FamilySize is 1, the passenger is alone\n"
   ]
  },
  {
   "cell_type": "markdown",
   "metadata": {},
   "source": [
    "Age Group (Age-related Feature)"
   ]
  },
  {
   "cell_type": "code",
   "execution_count": 213,
   "metadata": {},
   "outputs": [],
   "source": [
    "def age_group(row):\n",
    "    if row['Age'] <= 15:\n",
    "        return 0  # Child\n",
    "    elif row['Age'] <= 60:\n",
    "        return 1  # Adult\n",
    "    else:\n",
    "        return 2  # Senior\n",
    "\n",
    "train_Data_DF['age_group'] = train_Data_DF.apply(age_group, axis=1)\n",
    "test_Data_DF['age_group'] = test_Data_DF.apply(age_group, axis=1)"
   ]
  },
  {
   "cell_type": "markdown",
   "metadata": {},
   "source": [
    "### Applying One-Hot Encoding to the Titanic Dataset"
   ]
  },
  {
   "cell_type": "code",
   "execution_count": 214,
   "metadata": {},
   "outputs": [],
   "source": [
    "train_Data_DF = pd.get_dummies(train_Data_DF, columns=['Sex'], drop_first=True)\n",
    "test_Data_DF = pd.get_dummies(test_Data_DF, columns=['Sex'], drop_first=True)"
   ]
  },
  {
   "cell_type": "code",
   "execution_count": 215,
   "metadata": {},
   "outputs": [],
   "source": [
    "train_Data_DF = pd.get_dummies(train_Data_DF, columns=['Embarked'], prefix='Embarked')\n",
    "test_Data_DF = pd.get_dummies(test_Data_DF, columns=['Embarked'], prefix='Embarked')"
   ]
  },
  {
   "cell_type": "code",
   "execution_count": 216,
   "metadata": {},
   "outputs": [
    {
     "name": "stdout",
     "output_type": "stream",
     "text": [
      "   PassengerId  Survived  Pclass  \\\n",
      "0            1         0       3   \n",
      "1            2         1       1   \n",
      "2            3         1       3   \n",
      "3            4         1       1   \n",
      "4            5         0       3   \n",
      "5            6         0       3   \n",
      "6            7         0       1   \n",
      "7            8         0       3   \n",
      "8            9         1       3   \n",
      "9           10         1       2   \n",
      "\n",
      "                                                Name   Age  SibSp  Parch  \\\n",
      "0                            Braund, Mr. Owen Harris  22.0      1      0   \n",
      "1  Cumings, Mrs. John Bradley (Florence Briggs Th...  38.0      1      0   \n",
      "2                             Heikkinen, Miss. Laina  26.0      0      0   \n",
      "3       Futrelle, Mrs. Jacques Heath (Lily May Peel)  35.0      1      0   \n",
      "4                           Allen, Mr. William Henry  35.0      0      0   \n",
      "5                                   Moran, Mr. James   NaN      0      0   \n",
      "6                            McCarthy, Mr. Timothy J  54.0      0      0   \n",
      "7                     Palsson, Master. Gosta Leonard   2.0      3      1   \n",
      "8  Johnson, Mrs. Oscar W (Elisabeth Vilhelmina Berg)  27.0      0      2   \n",
      "9                Nasser, Mrs. Nicholas (Adele Achem)  14.0      1      0   \n",
      "\n",
      "             Ticket     Fare Cabin  ...  FamilySize   Title fare_type  \\\n",
      "0         A/5 21171   7.2500   NaN  ...           2  Common         0   \n",
      "1          PC 17599  71.2833   C85  ...           2  Common         2   \n",
      "2  STON/O2. 3101282   7.9250   NaN  ...           1  Common         0   \n",
      "3            113803  53.1000  C123  ...           2  Common         2   \n",
      "4            373450   8.0500   NaN  ...           1  Common         0   \n",
      "5            330877   8.4583   NaN  ...           1  Common         0   \n",
      "6             17463  51.8625   E46  ...           1  Common         2   \n",
      "7            349909  21.0750   NaN  ...           5    Rare         0   \n",
      "8            347742  11.1333   NaN  ...           3  Common         0   \n",
      "9            237736  30.0708   NaN  ...           2  Common         0   \n",
      "\n",
      "   fare_price  IsAlone  age_group  Sex_male  Embarked_C  Embarked_Q  \\\n",
      "0           0        0          1         1           0           0   \n",
      "1           2        0          1         0           1           0   \n",
      "2           0        1          1         0           0           0   \n",
      "3           2        0          1         0           0           0   \n",
      "4           0        1          1         1           0           0   \n",
      "5           0        1          2         1           0           1   \n",
      "6           2        1          1         1           0           0   \n",
      "7           0        0          0         1           0           0   \n",
      "8           0        0          1         0           0           0   \n",
      "9           0        0          0         0           1           0   \n",
      "\n",
      "   Embarked_S  \n",
      "0           1  \n",
      "1           0  \n",
      "2           1  \n",
      "3           1  \n",
      "4           1  \n",
      "5           0  \n",
      "6           1  \n",
      "7           1  \n",
      "8           1  \n",
      "9           0  \n",
      "\n",
      "[10 rows x 21 columns]\n"
     ]
    }
   ],
   "source": [
    "print(train_Data_DF.head(10))"
   ]
  },
  {
   "cell_type": "markdown",
   "metadata": {},
   "source": [
    "Cabin has a lot of empty fields want to drop for now aswell"
   ]
  },
  {
   "cell_type": "code",
   "execution_count": 217,
   "metadata": {},
   "outputs": [],
   "source": [
    "train_Data_DF = train_Data_DF.drop('Cabin', axis=1)\n",
    "test_Data_DF = test_Data_DF.drop('Cabin', axis=1)"
   ]
  }
 ],
 "metadata": {
  "kernelspec": {
   "display_name": "base",
   "language": "python",
   "name": "python3"
  },
  "language_info": {
   "codemirror_mode": {
    "name": "ipython",
    "version": 3
   },
   "file_extension": ".py",
   "mimetype": "text/x-python",
   "name": "python",
   "nbconvert_exporter": "python",
   "pygments_lexer": "ipython3",
   "version": "3.11.4"
  },
  "orig_nbformat": 4
 },
 "nbformat": 4,
 "nbformat_minor": 2
}
