{
 "cells": [
  {
   "cell_type": "markdown",
   "metadata": {},
   "source": [
    "# Kaggle - Titanic - Machine Learning from Disaster - Part 2"
   ]
  },
  {
   "cell_type": "markdown",
   "metadata": {},
   "source": [
    "In this exercise you will update your submission to the titanic competition.\n",
    "\n",
    "a) First let's add new numerical features / columns to the datasets that might be related to the survival of individuals.\n",
    "\n",
    "- `has_cabin` should have a value of 0 if the `cabin` feature is `nan` and 1 otherwise\n",
    "- `family_members` should have the total number of family members (by combining `SibSp` and `Parch`)\n",
    "- `title_type`: from the title extracted from the name, we will categorize it into 2 types: `common` for titles that many passengers have, `rare` for titles that few passengers have. Map `common` to 1 and `rare` to 0. Describe what threshold you used to define `common` and `rare` titles and how you found it.\n",
    "- `fare_type`: using Kmeans clustering on the fare column, find an appropriate number of clusters / groups of similar fares. Using the clusters you created, `fare_price` should be an ordinal variable that represents the expensiveness of the fare. For example if you split fare into 3 clusters ( 0 - 15, 15 - 40, and 40+ ) then the `fare_price` value should be `0` for `fare` values 0 - 15, `1` for 15 - 40, and `2` for 40+.\n",
    "- Create an addition two numerical features of your invention that you think could be relevant to the survival of individuals.\n",
    "\n",
    "Note: The features must be numerical because the sklearn `DecisionTreeClassifier` can only take on numerical features."
   ]
  },
  {
   "cell_type": "code",
   "execution_count": 1383,
   "metadata": {},
   "outputs": [],
   "source": [
    "import pandas as pd\n",
    "import numpy as np\n",
    "\n",
    "train_Data_DF = pd.read_csv(\"./Data/train.csv\")\n",
    "test_Data_DF = pd.read_csv(\"./Data/test.csv\")"
   ]
  },
  {
   "cell_type": "markdown",
   "metadata": {},
   "source": [
    "- The has_cabin feature could tell us whether having a cabin or not influenced whether a person survived or not.\n",
    "\n",
    "- Family_members is a combination of SibSp and Parch plus 1 (for the passenger themselves). This feature can be useful to understand if having family members on board affects a passenger's survival rate."
   ]
  },
  {
   "cell_type": "code",
   "execution_count": 1384,
   "metadata": {},
   "outputs": [],
   "source": [
    "for df in [train_Data_DF, test_Data_DF]:\n",
    "     # Set 'has_cabin' to 1 if 'Cabin' is not null, 0 otherwise\n",
    "    df['has_cabin'] = np.where(df['Cabin'].notnull(), 1, 0)\n",
    "    df['FamilySize'] = df['SibSp'] + df['Parch'] + 1"
   ]
  },
  {
   "cell_type": "markdown",
   "metadata": {},
   "source": [
    "For title_type like last time we'll use regex first to extract them:\n",
    "\n",
    "- train_Data_DF['Name'] accesses the Name column in the training DataFrame.\n",
    "\n",
    "- .str.extract(' ([A-Za-z]+)\\.', expand=False) applies the regular expression to each name, extracting the title.\n",
    "    - (space): The search starts after a space, ensuring we don't start extracting from the beginning of the Lastname.\n",
    "\n",
    "    - ([A-Za-z]+): This part captures one or more (+) alphabetical characters (A-Za-z). This is where the title will be matched, as titles are made up of letters only.\n",
    "    \n",
    "    - \\.: This looks for a literal period (.). Titles in the dataset are followed by a period (e.g., \"Mr.\"), making this a reliable way to end the capture.\n",
    "\n",
    "- The extracted title is then assigned to a new column in the DataFrame called 'Title'.\n",
    "\n"
   ]
  },
  {
   "cell_type": "code",
   "execution_count": 1385,
   "metadata": {},
   "outputs": [],
   "source": [
    "# Extract titles from the Name column\n",
    "train_Data_DF['Title'] = train_Data_DF['Name'].str.extract(' ([A-Za-z]+)\\.', expand=False)\n",
    "test_Data_DF['Title'] = test_Data_DF['Name'].str.extract(' ([A-Za-z]+)\\.', expand=False)"
   ]
  },
  {
   "cell_type": "code",
   "execution_count": 1386,
   "metadata": {},
   "outputs": [],
   "source": [
    "for df in [train_Data_DF, test_Data_DF]:\n",
    "    df['Title'] = df['Title'].replace(['Lady', 'Countess','Capt', 'Col',\\\n",
    "                                       'Don', 'Dr', 'Major', 'Rev', 'Sir', 'Jonkheer', 'Dona', 'Master'], 'Rare')\n",
    "\n",
    "    df['Title'] = df['Title'].replace('Mlle', 'Miss')\n",
    "    df['Title'] = df['Title'].replace('Ms', 'Miss')\n",
    "    df['Title'] = df['Title'].replace('Mme', 'Mrs')\n",
    "    df['Title'] = df['Title'].replace(['Miss', 'Mrs', 'Mr'], 'Common')"
   ]
  },
  {
   "cell_type": "markdown",
   "metadata": {},
   "source": [
    "The code provided does a few things (same as the first notebook):\n",
    "\n",
    "- It first replaces rare titles (like 'Lady', 'Countess', 'Capt', 'Col', etc.) with 'Rare'. This groups various titles of nobility or uncommon professional titles into a single 'Rare' category, acknowledging their unique status without overcomplicating the model.\n",
    "\n",
    "- It replaces titles with their common equivalents, such as converting 'Mlle' and 'Ms' to 'Miss', and 'Mme' (Madame) to 'Mrs', to ensure consistency in the dataset.\n",
    "\n",
    "- The distinction is that we are combining the titles into either rare or common as per the requirements. However I do think slightly more variation would benefit the model."
   ]
  },
  {
   "cell_type": "markdown",
   "metadata": {},
   "source": [
    "## Kmeans Clustering on Fare"
   ]
  },
  {
   "cell_type": "markdown",
   "metadata": {},
   "source": [
    "First the distinction on fare type and fare price:\n",
    "\n",
    "- fare_type: This column represents the cluster labels assigned by the KMeans algorithm based on the Fare value for each passenger. These labels are integers (0, 1, 2, ..., N-1, where N is the number of clusters) that indicate the cluster each passenger's fare belongs to. However, these labels are assigned based on the clustering algorithm's internal logic and do not necessarily correspond to the ordinal ranking of the fare amounts. For example, cluster 0 could correspond to the highest fare values, cluster 1 to the lowest, and cluster 2 to the medium, depending on how the clustering algorithm groups the data.\n",
    "\n",
    "- fare_price: This column is derived from the fare_type labels and represents an ordinal variable that ranks the expensiveness of the fare from least to most expensive. The transformation from fare_type to fare_price involves sorting the cluster centers (average fare values of each cluster) to understand which cluster corresponds to which level of fare expensiveness. Then, a mapping is applied to convert the cluster labels (fare_type) into a meaningful ordinal sequence (fare_price). This means if cluster 2 has the lowest average fare, it would be mapped to 0 in fare_price, indicating the least expensive tier of fares.\n",
    "\n",
    "In essence, fare_type is an intermediate step that assigns each passenger to a cluster based on fare, but it doesn't inherently order these clusters by the average fare within them. fare_price takes the additional step of ordering these clusters to create a meaningful, ordinal categorization of fare expensiveness.\n",
    "\n"
   ]
  },
  {
   "cell_type": "code",
   "execution_count": 1387,
   "metadata": {},
   "outputs": [],
   "source": [
    "from sklearn.cluster import KMeans\n",
    "import matplotlib.pyplot as plt\n",
    "\n",
    "\n",
    "# Step 1: Determine the number of clusters using the elbow method\n",
    "# Extract the Fare column values as a matrix\n",
    "fare_values_train = train_Data_DF['Fare'].values.reshape(-1, 1)\n",
    "\n"
   ]
  },
  {
   "cell_type": "markdown",
   "metadata": {},
   "source": [
    "### What is Inertia?\n",
    "Inertia, in the context of KMeans, quantifies how far away the points within a cluster are from their centroid. A lower inertia value indicates that the points in each cluster are closer to each other and to their respective centroid, suggesting a better fit of the model to the data. However, as the number of clusters k increases, inertia naturally decreases because the clusters get smaller and their centers are closer to the points within them.\n",
    "\n",
    "### Purpose of Calculating Inertia for Different k Values\n",
    "The purpose of calculating and plotting the inertia for different k values is to apply the elbow method to determine the optimal number of clusters. When you plot the inertias (y-axis) against the number of clusters k (x-axis), you look for an \"elbow\" point where the rate of decrease of inertia sharply changes. Before this point, adding more clusters significantly reduces inertia, suggesting that the additional cluster provides a better fit to the data. After this point, the reduction in inertia slows down, indicating that additional clusters do not contribute as much to explaining the data variance and might lead to overfitting."
   ]
  },
  {
   "cell_type": "code",
   "execution_count": 1388,
   "metadata": {},
   "outputs": [
    {
     "name": "stderr",
     "output_type": "stream",
     "text": [
      "/Users/rsudhir/anaconda3/lib/python3.11/site-packages/sklearn/cluster/_kmeans.py:1412: FutureWarning: The default value of `n_init` will change from 10 to 'auto' in 1.4. Set the value of `n_init` explicitly to suppress the warning\n",
      "  super()._check_params_vs_input(X, default_n_init=10)\n",
      "/Users/rsudhir/anaconda3/lib/python3.11/site-packages/sklearn/cluster/_kmeans.py:1412: FutureWarning: The default value of `n_init` will change from 10 to 'auto' in 1.4. Set the value of `n_init` explicitly to suppress the warning\n",
      "  super()._check_params_vs_input(X, default_n_init=10)\n",
      "/Users/rsudhir/anaconda3/lib/python3.11/site-packages/sklearn/cluster/_kmeans.py:1412: FutureWarning: The default value of `n_init` will change from 10 to 'auto' in 1.4. Set the value of `n_init` explicitly to suppress the warning\n",
      "  super()._check_params_vs_input(X, default_n_init=10)\n",
      "/Users/rsudhir/anaconda3/lib/python3.11/site-packages/sklearn/cluster/_kmeans.py:1412: FutureWarning: The default value of `n_init` will change from 10 to 'auto' in 1.4. Set the value of `n_init` explicitly to suppress the warning\n",
      "  super()._check_params_vs_input(X, default_n_init=10)\n",
      "/Users/rsudhir/anaconda3/lib/python3.11/site-packages/sklearn/cluster/_kmeans.py:1412: FutureWarning: The default value of `n_init` will change from 10 to 'auto' in 1.4. Set the value of `n_init` explicitly to suppress the warning\n",
      "  super()._check_params_vs_input(X, default_n_init=10)\n",
      "/Users/rsudhir/anaconda3/lib/python3.11/site-packages/sklearn/cluster/_kmeans.py:1412: FutureWarning: The default value of `n_init` will change from 10 to 'auto' in 1.4. Set the value of `n_init` explicitly to suppress the warning\n",
      "  super()._check_params_vs_input(X, default_n_init=10)\n",
      "/Users/rsudhir/anaconda3/lib/python3.11/site-packages/sklearn/cluster/_kmeans.py:1412: FutureWarning: The default value of `n_init` will change from 10 to 'auto' in 1.4. Set the value of `n_init` explicitly to suppress the warning\n",
      "  super()._check_params_vs_input(X, default_n_init=10)\n",
      "/Users/rsudhir/anaconda3/lib/python3.11/site-packages/sklearn/cluster/_kmeans.py:1412: FutureWarning: The default value of `n_init` will change from 10 to 'auto' in 1.4. Set the value of `n_init` explicitly to suppress the warning\n",
      "  super()._check_params_vs_input(X, default_n_init=10)\n",
      "/Users/rsudhir/anaconda3/lib/python3.11/site-packages/sklearn/cluster/_kmeans.py:1412: FutureWarning: The default value of `n_init` will change from 10 to 'auto' in 1.4. Set the value of `n_init` explicitly to suppress the warning\n",
      "  super()._check_params_vs_input(X, default_n_init=10)\n"
     ]
    }
   ],
   "source": [
    "# Calculate the sum of squared distances for different numbers of clusters\n",
    "ssd = []\n",
    "for k in range(1, 10):\n",
    "    kmeans = KMeans(n_clusters=k, random_state=42)\n",
    "    kmeans.fit(fare_values_train)\n",
    "    ssd.append(kmeans.inertia_)"
   ]
  },
  {
   "cell_type": "code",
   "execution_count": 1389,
   "metadata": {},
   "outputs": [
    {
     "data": {
      "image/png": "[encoded data removed]",
      "text/plain": [
       "<Figure size 640x480 with 1 Axes>"
      ]
     },
     "metadata": {},
     "output_type": "display_data"
    }
   ],
   "source": [
    "# Plot the elbow curve\n",
    "plt.plot(range(1, 10), ssd)\n",
    "plt.xlabel('Number of clusters')\n",
    "plt.ylabel('Sum of squared distances')\n",
    "plt.title('Elbow Method for Optimal K')\n",
    "plt.show()"
   ]
  },
  {
   "cell_type": "markdown",
   "metadata": {},
   "source": [
    "At around 4 clusters the change of ssd starts to diminish and increasing clusters at that point may lead to overfitting."
   ]
  },
  {
   "cell_type": "code",
   "execution_count": 1390,
   "metadata": {},
   "outputs": [
    {
     "name": "stderr",
     "output_type": "stream",
     "text": [
      "/Users/rsudhir/anaconda3/lib/python3.11/site-packages/sklearn/cluster/_kmeans.py:1412: FutureWarning: The default value of `n_init` will change from 10 to 'auto' in 1.4. Set the value of `n_init` explicitly to suppress the warning\n",
      "  super()._check_params_vs_input(X, default_n_init=10)\n"
     ]
    }
   ],
   "source": [
    "# Step 2: Fit KMeans with the chosen number of clusters (e.g., 3 clusters)\n",
    "kmeans = KMeans(n_clusters=4, random_state=42)\n",
    "kmeans.fit(fare_values_train)\n",
    "\n",
    "train_Data_DF['fare_type'] = kmeans.predict(fare_values_train)\n"
   ]
  },
  {
   "cell_type": "code",
   "execution_count": 1391,
   "metadata": {},
   "outputs": [],
   "source": [
    "from sklearn.impute import SimpleImputer\n",
    "\n",
    "# Apply the same transformation to the test data\n",
    "# Test data has missing values so have to fill in those values\n",
    "# using the median to try and avoid affecting the data too much\n",
    "\n",
    "imputer = SimpleImputer(strategy=\"median\")\n",
    "\n",
    "# Fit the imputer on the training data\n",
    "# on the training data to avoid data leakage\n",
    "imputer.fit(train_Data_DF['Fare'].values.reshape(-1, 1))\n",
    "\n",
    "fare_values_test = imputer.transform(test_Data_DF['Fare'].values.reshape(-1, 1))\n",
    "test_Data_DF['fare_type'] = kmeans.predict(fare_values_test)"
   ]
  },
  {
   "cell_type": "code",
   "execution_count": 1392,
   "metadata": {},
   "outputs": [
    {
     "name": "stdout",
     "output_type": "stream",
     "text": [
      "{0: 0, 1: 1, 2: 2, 3: 3}\n"
     ]
    }
   ],
   "source": [
    "# Step 3: Sort the clusters and map them to ordinal values\n",
    "# Get the cluster centers and sort by fare\n",
    "sorted_centers = sorted(kmeans.cluster_centers_.flatten())\n",
    "\n",
    "# Map the cluster labels to ordinal values\n",
    "# basically creating a relationshio between the original\n",
    "# cluster label and the new ranking\n",
    "ordinal_mapping = {sorted_centers.index(center): rank for rank, center in enumerate(sorted_centers)}\n",
    "print(ordinal_mapping)"
   ]
  },
  {
   "cell_type": "markdown",
   "metadata": {},
   "source": [
    "In the case where ordinal_mapping is {0: 0, 1: 1, 2: 2, 3: 3}, it seems like a direct mapping because the cluster labels already coincide with their sorted order based on the fare. However, the mapping ensures that regardless of how the cluster labels were originally assigned by KMeans, each passenger's fare is categorized correctly according to the expensiveness ranking determined by the sorted cluster centers."
   ]
  },
  {
   "cell_type": "code",
   "execution_count": 1393,
   "metadata": {},
   "outputs": [
    {
     "name": "stdout",
     "output_type": "stream",
     "text": [
      "      Fare  fare_type  fare_price\n",
      "0   7.2500          0           0\n",
      "1  71.2833          2           2\n",
      "2   7.9250          0           0\n",
      "3  53.1000          2           2\n",
      "4   8.0500          0           0\n",
      "      Fare  fare_type  fare_price\n",
      "0   7.8292          0           0\n",
      "1   7.0000          0           0\n",
      "2   9.6875          0           0\n",
      "3   8.6625          0           0\n",
      "4  12.2875          0           0\n"
     ]
    }
   ],
   "source": [
    "# Apply the ordinal mapping to both training and test datasets\n",
    "train_Data_DF['fare_price'] = train_Data_DF['fare_type'].map(ordinal_mapping)\n",
    "test_Data_DF['fare_price'] = test_Data_DF['fare_type'].map(ordinal_mapping)\n",
    "\n",
    "# Check the mapping\n",
    "print(train_Data_DF[['Fare', 'fare_type', 'fare_price']].head())\n",
    "print(test_Data_DF[['Fare', 'fare_type', 'fare_price']].head())"
   ]
  },
  {
   "cell_type": "markdown",
   "metadata": {},
   "source": [
    "Now lets check what the ranges are."
   ]
  },
  {
   "cell_type": "code",
   "execution_count": 1394,
   "metadata": {},
   "outputs": [
    {
     "name": "stdout",
     "output_type": "stream",
     "text": [
      "                min       max\n",
      "fare_type                    \n",
      "0            0.0000   42.4000\n",
      "1          146.5208  263.0000\n",
      "2           46.9000  135.6333\n",
      "3          512.3292  512.3292\n"
     ]
    }
   ],
   "source": [
    "# Group the data by 'fare_type' (cluster label)\n",
    "grouped = train_Data_DF.groupby('fare_type')\n",
    "\n",
    "# Calculate min and max 'Fare' for each cluster\n",
    "fare_ranges = grouped['Fare'].agg(['min', 'max'])\n",
    "\n",
    "print(fare_ranges)"
   ]
  },
  {
   "cell_type": "markdown",
   "metadata": {},
   "source": [
    "When looking at the ranges, it seems 4 clusters may be overfitting? As the fourth cluster seems to be for a single point.\n",
    "\n",
    "Let me add columns for the mean Fare and the count of passengers (count) in each cluster,to provide a more comprehensive overview of the fare distribution within each cluster identified by KMeans model."
   ]
  },
  {
   "cell_type": "code",
   "execution_count": 1395,
   "metadata": {},
   "outputs": [
    {
     "name": "stdout",
     "output_type": "stream",
     "text": [
      "                min       max        mean  count\n",
      "fare_type                                       \n",
      "0            0.0000   42.4000   15.053373    720\n",
      "1          146.5208  263.0000  204.948064     28\n",
      "2           46.9000  135.6333   75.571339    140\n",
      "3          512.3292  512.3292  512.329200      3\n"
     ]
    }
   ],
   "source": [
    "fare_stats = grouped['Fare'].agg(['min', 'max', 'mean', 'count'])\n",
    "print(fare_stats)"
   ]
  },
  {
   "cell_type": "markdown",
   "metadata": {},
   "source": [
    "The fourth cluster, with only 3 data points and a significantly higher fare mean, represents outliers or a very distinct group of fares (in this case, the maximum fare of 512.3292). Since it does contain information about a few high value passengers it may be useful to keep."
   ]
  },
  {
   "cell_type": "markdown",
   "metadata": {},
   "source": [
    "### 2 more numerical columns"
   ]
  },
  {
   "cell_type": "markdown",
   "metadata": {},
   "source": [
    "is alone like last time:\n",
    "- df['IsAlone'] = 0 initializes a new column IsAlone for every passenger in the DataFrame, setting it to 0 by default, indicating that passengers are not alone.\n",
    "\n",
    "- df.loc[df['FamilySize'] == 1, 'IsAlone'] = 1 this line looks for passengers whose FamilySize equals 1—meaning they have no family members aboard—and sets their IsAlone status to 1, indicating they are traveling alone.\n"
   ]
  },
  {
   "cell_type": "code",
   "execution_count": 1396,
   "metadata": {},
   "outputs": [],
   "source": [
    "for df in [train_Data_DF, test_Data_DF]:\n",
    "    df['IsAlone'] = 0 # Initially, assume no passengers are alone\n",
    "    df.loc[df['FamilySize'] == 1, 'IsAlone'] = 1 # If FamilySize is 1, the passenger is alone\n"
   ]
  },
  {
   "cell_type": "markdown",
   "metadata": {},
   "source": [
    "Age Group (Age-related Feature)"
   ]
  },
  {
   "cell_type": "code",
   "execution_count": 1397,
   "metadata": {},
   "outputs": [],
   "source": [
    "def age_group(row):\n",
    "    if row['Age'] <= 15:\n",
    "        return 0  # Child\n",
    "    elif row['Age'] <= 60:\n",
    "        return 1  # Adult\n",
    "    else:\n",
    "        return 2  # Senior\n",
    "\n",
    "train_Data_DF['age_group'] = train_Data_DF.apply(age_group, axis=1)\n",
    "test_Data_DF['age_group'] = test_Data_DF.apply(age_group, axis=1)"
   ]
  },
  {
   "cell_type": "markdown",
   "metadata": {},
   "source": [
    "### Applying One-Hot Encoding to the Titanic Dataset"
   ]
  },
  {
   "cell_type": "code",
   "execution_count": 1398,
   "metadata": {},
   "outputs": [],
   "source": [
    "train_Data_DF = pd.get_dummies(train_Data_DF, columns=['Sex'], drop_first=True)\n",
    "test_Data_DF = pd.get_dummies(test_Data_DF, columns=['Sex'], drop_first=True)"
   ]
  },
  {
   "cell_type": "code",
   "execution_count": 1399,
   "metadata": {},
   "outputs": [],
   "source": [
    "train_Data_DF = pd.get_dummies(train_Data_DF, columns=['Embarked'], prefix='Embarked')\n",
    "test_Data_DF = pd.get_dummies(test_Data_DF, columns=['Embarked'], prefix='Embarked')"
   ]
  },
  {
   "cell_type": "code",
   "execution_count": 1400,
   "metadata": {},
   "outputs": [
    {
     "name": "stdout",
     "output_type": "stream",
     "text": [
      "   PassengerId  Survived  Pclass  \\\n",
      "0            1         0       3   \n",
      "1            2         1       1   \n",
      "2            3         1       3   \n",
      "3            4         1       1   \n",
      "4            5         0       3   \n",
      "5            6         0       3   \n",
      "6            7         0       1   \n",
      "7            8         0       3   \n",
      "8            9         1       3   \n",
      "9           10         1       2   \n",
      "\n",
      "                                                Name   Age  SibSp  Parch  \\\n",
      "0                            Braund, Mr. Owen Harris  22.0      1      0   \n",
      "1  Cumings, Mrs. John Bradley (Florence Briggs Th...  38.0      1      0   \n",
      "2                             Heikkinen, Miss. Laina  26.0      0      0   \n",
      "3       Futrelle, Mrs. Jacques Heath (Lily May Peel)  35.0      1      0   \n",
      "4                           Allen, Mr. William Henry  35.0      0      0   \n",
      "5                                   Moran, Mr. James   NaN      0      0   \n",
      "6                            McCarthy, Mr. Timothy J  54.0      0      0   \n",
      "7                     Palsson, Master. Gosta Leonard   2.0      3      1   \n",
      "8  Johnson, Mrs. Oscar W (Elisabeth Vilhelmina Berg)  27.0      0      2   \n",
      "9                Nasser, Mrs. Nicholas (Adele Achem)  14.0      1      0   \n",
      "\n",
      "             Ticket     Fare Cabin  ...  FamilySize   Title fare_type  \\\n",
      "0         A/5 21171   7.2500   NaN  ...           2  Common         0   \n",
      "1          PC 17599  71.2833   C85  ...           2  Common         2   \n",
      "2  STON/O2. 3101282   7.9250   NaN  ...           1  Common         0   \n",
      "3            113803  53.1000  C123  ...           2  Common         2   \n",
      "4            373450   8.0500   NaN  ...           1  Common         0   \n",
      "5            330877   8.4583   NaN  ...           1  Common         0   \n",
      "6             17463  51.8625   E46  ...           1  Common         2   \n",
      "7            349909  21.0750   NaN  ...           5    Rare         0   \n",
      "8            347742  11.1333   NaN  ...           3  Common         0   \n",
      "9            237736  30.0708   NaN  ...           2  Common         0   \n",
      "\n",
      "   fare_price  IsAlone  age_group  Sex_male  Embarked_C  Embarked_Q  \\\n",
      "0           0        0          1         1           0           0   \n",
      "1           2        0          1         0           1           0   \n",
      "2           0        1          1         0           0           0   \n",
      "3           2        0          1         0           0           0   \n",
      "4           0        1          1         1           0           0   \n",
      "5           0        1          2         1           0           1   \n",
      "6           2        1          1         1           0           0   \n",
      "7           0        0          0         1           0           0   \n",
      "8           0        0          1         0           0           0   \n",
      "9           0        0          0         0           1           0   \n",
      "\n",
      "   Embarked_S  \n",
      "0           1  \n",
      "1           0  \n",
      "2           1  \n",
      "3           1  \n",
      "4           1  \n",
      "5           0  \n",
      "6           1  \n",
      "7           1  \n",
      "8           1  \n",
      "9           0  \n",
      "\n",
      "[10 rows x 21 columns]\n"
     ]
    }
   ],
   "source": [
    "print(train_Data_DF.head(10))"
   ]
  },
  {
   "cell_type": "markdown",
   "metadata": {},
   "source": [
    "Cabin has a lot of empty fields want to drop for now aswell"
   ]
  },
  {
   "cell_type": "code",
   "execution_count": 1401,
   "metadata": {},
   "outputs": [],
   "source": [
    "train_Data_DF = train_Data_DF.drop('Cabin', axis=1)\n",
    "test_Data_DF = test_Data_DF.drop('Cabin', axis=1)"
   ]
  },
  {
   "cell_type": "markdown",
   "metadata": {},
   "source": [
    "## Decision Trees"
   ]
  },
  {
   "cell_type": "markdown",
   "metadata": {},
   "source": [
    "b) Using a method covered in class, tune the parameters of a decision tree model on the titanic dataset (containing all numerical features including the ones you added above). Evaluate this model locally and report it's performance.\n",
    "\n",
    "Note: make sure you are not tuning your parameters on the same dataset you are using to evaluate the model. Also explain how you know you are not overfitting to the training set.\n"
   ]
  },
  {
   "cell_type": "markdown",
   "metadata": {},
   "source": [
    "Simple Tree Code we have written in class"
   ]
  },
  {
   "cell_type": "code",
   "execution_count": 1402,
   "metadata": {},
   "outputs": [],
   "source": [
    "class Node:\n",
    "    def __init__(self, attribute):\n",
    "        self.attr = attribute\n",
    "        self.left = None\n",
    "        self.right = None\n",
    "        self.vote = None\n",
    "    \n",
    "    def _node_at(self, depth):\n",
    "        pretty_print = \"\"\n",
    "        if self.left is not None:\n",
    "            for _ in range(depth):\n",
    "                pretty_print += \"| \"\n",
    "            pretty_print += self.attr + ' = 0: \\n'\n",
    "            pretty_print += self.left._node_at(depth + 1)\n",
    "    \n",
    "        if self.right is not None:\n",
    "            for _ in range(depth):\n",
    "                pretty_print += \"| \"\n",
    "            pretty_print += self.attr + ' = 1: \\n'\n",
    "            pretty_print += self.right._node_at(depth + 1)\n",
    "        \n",
    "        if self.right is None and self.left is None:\n",
    "            for _ in range(depth):\n",
    "                pretty_print += \"| \"\n",
    "            pretty_print += \"vote = \" + str(self.vote) + '\\n'\n",
    "        \n",
    "        return pretty_print\n",
    "\n",
    "    def __repr__(self):\n",
    "        return self._node_at(0)\n",
    "\n",
    "def gini(node):\n",
    "    x = sum(node)\n",
    "    if len(node) == 0:\n",
    "        return 0\n",
    "    frequencies = [\n",
    "        x/len(node),\n",
    "        (len(node) - x)/len(node) # could also do 1 - (x/len(node))\n",
    "    ]\n",
    "    return 1 - sum([f**2 for f in frequencies])\n",
    "\n",
    "\n",
    "def predict(tree : Node, example):\n",
    "    if tree.left is None and tree.right is None:\n",
    "        return tree.vote\n",
    "    \n",
    "    if example[tree.attr] == 0:\n",
    "        return predict(tree.left, example)\n",
    "\n",
    "    if example[tree.attr] == 1:\n",
    "        return predict(tree.right, example)\n",
    "\n",
    "    return 0\n",
    "\n",
    "#for multiple examples\n",
    "def predict_batch(tree_model, data):\n",
    "    predictions = []\n",
    "    for _, row in data.iterrows():\n",
    "        predictions.append(predict(tree_model.tree, row))\n",
    "    return predictions"
   ]
  },
  {
   "cell_type": "code",
   "execution_count": 1403,
   "metadata": {},
   "outputs": [],
   "source": [
    "\n",
    "class SimpleDecisionTree:\n",
    "    \n",
    "    def __init__(self, max_depth, data, target_name):\n",
    "        self.max_depth = max_depth\n",
    "        self.data = data\n",
    "        self.target_name = target_name\n",
    "        self.tree = None\n",
    "        self.default_class = None\n",
    "\n",
    "\n",
    "    def __repr__(self):\n",
    "        return self.tree.__repr__()\n",
    "\n",
    "\n",
    "    def get_subset(self, data, attr):\n",
    "        subset_1 = data[data[attr] == 0]\n",
    "        subset_2 = data[data[attr] == 1]\n",
    "        return subset_1, subset_2\n",
    "\n",
    "\n",
    "    def gini_split(self, data, attr):\n",
    "        subsets = [\n",
    "            data[data[attr] == 0][self.target_name],\n",
    "            data[data[attr] == 1][self.target_name]\n",
    "        ]\n",
    "        if len(data) == 0:\n",
    "            return 0\n",
    "\n",
    "        return sum([gini(x)* len(x) for x in subsets])/len(data)\n",
    "\n",
    "\n",
    "    def get_majority_vote(self, data):\n",
    "        # Initialize a dictionary to count occurrences\n",
    "        \n",
    "        counts = {}\n",
    "        # Iterate through each item in the target column\n",
    "        for value in data[self.target_name]:\n",
    "            if value in counts:\n",
    "                counts[value] += 1\n",
    "            else:\n",
    "                counts[value] = 1\n",
    "        print(counts)\n",
    "\n",
    "        if counts:  # Ensure 'counts' is not empty\n",
    "            majority_vote = max(counts, key=counts.get)\n",
    "        else:\n",
    "            majority_vote = self.default_class  # Fallback to the default class if no data\n",
    "        #Find the key with the maximum value (majority vote)\n",
    "        #majority_vote = max(counts, key=counts.get)\n",
    "        return majority_vote\n",
    "\n",
    "\n",
    "    def get_best_attribute(self, data):        \n",
    "        best_attr = None\n",
    "        min_gini = float('inf')\n",
    "        for attr in data.columns:\n",
    "            if attr != self.target_name:\n",
    "                gini = self.gini_split(data, attr)\n",
    "\n",
    "                if gini < min_gini:\n",
    "                    min_gini = gini\n",
    "                    best_attr = attr\n",
    "        return best_attr\n",
    "\n",
    "    # added print statements\n",
    "\n",
    "    def build_tree(self, data, depth):\n",
    "        if depth == 0 or len(data) == 0:\n",
    "            # Create a leaf node with the majority vote\n",
    "            node = Node(None)  # No splitting attribute since it's a leaf\n",
    "            node.vote = self.get_majority_vote(data)\n",
    "            print(f\"Leaf node created with vote={node.vote} at depth={self.max_depth - depth}\")\n",
    "            return node\n",
    "\n",
    "        # Select the best attribute to split on\n",
    "        attr = self.get_best_attribute(data)\n",
    "        if attr is None:\n",
    "            # If no attribute is found, create a leaf node\n",
    "            node = Node(None)\n",
    "            node.vote = self.get_majority_vote(data)\n",
    "            return node\n",
    "\n",
    "        # Create a node for the selected attribute\n",
    "        node = Node(attr)\n",
    "        print(f\"Creating node with attribute '{attr}' at depth={self.max_depth - depth}\")\n",
    "\n",
    "        # Split the data based on the best attribute\n",
    "        left_data, right_data = self.get_subset(data, attr)\n",
    "\n",
    "        # Recursively build the left and right subtrees\n",
    "        node.left = self.build_tree(left_data, depth - 1)\n",
    "        node.right = self.build_tree(right_data, depth - 1)\n",
    "\n",
    "        return node\n",
    "\n",
    "\n",
    "\n",
    "    def train(self):\n",
    "        # Adjusted to work with pandas DataFrame\n",
    "        if self.max_depth > len(self.data.columns) - 1:\n",
    "            self.max_depth = len(self.data.columns) - 1\n",
    "\n",
    "        self.default_class = self.get_majority_vote(self.data)\n",
    "        self.tree = self.build_tree(self.data, self.max_depth)\n",
    "\n"
   ]
  },
  {
   "cell_type": "markdown",
   "metadata": {},
   "source": [
    "Now to train the dataset on the decision tree"
   ]
  },
  {
   "cell_type": "code",
   "execution_count": 1404,
   "metadata": {},
   "outputs": [],
   "source": [
    "# Dropping non-numeric and target columns\n",
    "X = train_Data_DF.drop(['PassengerId', 'Name', 'Ticket', 'Title', 'Survived', 'Age','Fare'], axis=1)\n",
    "y = train_Data_DF['Survived']"
   ]
  },
  {
   "cell_type": "code",
   "execution_count": 1405,
   "metadata": {},
   "outputs": [
    {
     "name": "stdout",
     "output_type": "stream",
     "text": [
      "   Pclass  SibSp  Parch  has_cabin  FamilySize  fare_type  fare_price  \\\n",
      "0       3      1      0          0           2          0           0   \n",
      "1       1      1      0          1           2          2           2   \n",
      "2       3      0      0          0           1          0           0   \n",
      "3       1      1      0          1           2          2           2   \n",
      "4       3      0      0          0           1          0           0   \n",
      "\n",
      "   IsAlone  age_group  Sex_male  Embarked_C  Embarked_Q  Embarked_S  \n",
      "0        0          1         1           0           0           1  \n",
      "1        0          1         0           1           0           0  \n",
      "2        1          1         0           0           0           1  \n",
      "3        0          1         0           0           0           1  \n",
      "4        1          1         1           0           0           1  \n"
     ]
    }
   ],
   "source": [
    "print(X.head())"
   ]
  },
  {
   "cell_type": "code",
   "execution_count": 1406,
   "metadata": {},
   "outputs": [],
   "source": [
    "from sklearn.model_selection import train_test_split\n",
    "X_train, X_test, y_train, y_test = train_test_split(X, y, test_size=0.2, random_state=42)"
   ]
  },
  {
   "cell_type": "code",
   "execution_count": 1407,
   "metadata": {},
   "outputs": [
    {
     "name": "stdout",
     "output_type": "stream",
     "text": [
      "{0: 444, 1: 268}\n",
      "Creating node with attribute 'Pclass' at depth=0\n",
      "{}\n",
      "Leaf node created with vote=0 at depth=1\n",
      "{0: 64, 1: 99}\n",
      "Leaf node created with vote=1 at depth=1\n",
      "{0: 444, 1: 268}\n",
      "Creating node with attribute 'Pclass' at depth=0\n",
      "{}\n",
      "Leaf node created with vote=0 at depth=1\n",
      "Creating node with attribute 'fare_type' at depth=1\n",
      "{0: 31, 1: 20}\n",
      "Leaf node created with vote=0 at depth=2\n",
      "{0: 8, 1: 16}\n",
      "Leaf node created with vote=1 at depth=2\n",
      "{0: 444, 1: 268}\n",
      "Creating node with attribute 'Pclass' at depth=0\n",
      "{}\n",
      "Leaf node created with vote=0 at depth=1\n",
      "Creating node with attribute 'fare_type' at depth=1\n",
      "Creating node with attribute 'age_group' at depth=2\n",
      "{}\n",
      "Leaf node created with vote=0 at depth=3\n",
      "{0: 17, 1: 15}\n",
      "Leaf node created with vote=0 at depth=3\n",
      "Creating node with attribute 'FamilySize' at depth=2\n",
      "{}\n",
      "Leaf node created with vote=0 at depth=3\n",
      "{1: 6, 0: 1}\n",
      "Leaf node created with vote=1 at depth=3\n",
      "{0: 444, 1: 268}\n",
      "Creating node with attribute 'Pclass' at depth=0\n",
      "{}\n",
      "Leaf node created with vote=0 at depth=1\n",
      "Creating node with attribute 'fare_type' at depth=1\n",
      "Creating node with attribute 'age_group' at depth=2\n",
      "{}\n",
      "Leaf node created with vote=0 at depth=3\n",
      "Creating node with attribute 'Sex_male' at depth=3\n",
      "{1: 5, 0: 1}\n",
      "Leaf node created with vote=1 at depth=4\n",
      "{0: 16, 1: 10}\n",
      "Leaf node created with vote=0 at depth=4\n",
      "Creating node with attribute 'FamilySize' at depth=2\n",
      "{}\n",
      "Leaf node created with vote=0 at depth=3\n",
      "Creating node with attribute 'age_group' at depth=3\n",
      "{}\n",
      "Leaf node created with vote=0 at depth=4\n",
      "{1: 6}\n",
      "Leaf node created with vote=1 at depth=4\n",
      "{0: 444, 1: 268}\n",
      "Creating node with attribute 'Pclass' at depth=0\n",
      "{}\n",
      "Leaf node created with vote=0 at depth=1\n",
      "Creating node with attribute 'fare_type' at depth=1\n",
      "Creating node with attribute 'age_group' at depth=2\n",
      "{}\n",
      "Leaf node created with vote=0 at depth=3\n",
      "Creating node with attribute 'Sex_male' at depth=3\n",
      "Creating node with attribute 'Embarked_C' at depth=4\n",
      "{1: 3}\n",
      "Leaf node created with vote=1 at depth=5\n",
      "{0: 1, 1: 2}\n",
      "Leaf node created with vote=1 at depth=5\n",
      "Creating node with attribute 'Parch' at depth=4\n",
      "{0: 15, 1: 10}\n",
      "Leaf node created with vote=0 at depth=5\n",
      "{0: 1}\n",
      "Leaf node created with vote=0 at depth=5\n",
      "Creating node with attribute 'FamilySize' at depth=2\n",
      "{}\n",
      "Leaf node created with vote=0 at depth=3\n",
      "Creating node with attribute 'age_group' at depth=3\n",
      "{}\n",
      "Leaf node created with vote=0 at depth=4\n",
      "Creating node with attribute 'Pclass' at depth=4\n",
      "{}\n",
      "Leaf node created with vote=0 at depth=5\n",
      "{1: 6}\n",
      "Leaf node created with vote=1 at depth=5\n",
      "{0: 444, 1: 268}\n",
      "Creating node with attribute 'Pclass' at depth=0\n",
      "{}\n",
      "Leaf node created with vote=0 at depth=1\n",
      "Creating node with attribute 'fare_type' at depth=1\n",
      "Creating node with attribute 'age_group' at depth=2\n",
      "{}\n",
      "Leaf node created with vote=0 at depth=3\n",
      "Creating node with attribute 'Sex_male' at depth=3\n",
      "Creating node with attribute 'Embarked_C' at depth=4\n",
      "Creating node with attribute 'Pclass' at depth=5\n",
      "{}\n",
      "Leaf node created with vote=0 at depth=6\n",
      "{1: 3}\n",
      "Leaf node created with vote=1 at depth=6\n",
      "Creating node with attribute 'SibSp' at depth=5\n",
      "{0: 1, 1: 1}\n",
      "Leaf node created with vote=0 at depth=6\n",
      "{1: 1}\n",
      "Leaf node created with vote=1 at depth=6\n",
      "Creating node with attribute 'Parch' at depth=4\n",
      "Creating node with attribute 'has_cabin' at depth=5\n",
      "{0: 2, 1: 2}\n",
      "Leaf node created with vote=0 at depth=6\n",
      "{0: 13, 1: 8}\n",
      "Leaf node created with vote=0 at depth=6\n",
      "Creating node with attribute 'Pclass' at depth=5\n",
      "{}\n",
      "Leaf node created with vote=0 at depth=6\n",
      "{0: 1}\n",
      "Leaf node created with vote=0 at depth=6\n",
      "Creating node with attribute 'FamilySize' at depth=2\n",
      "{}\n",
      "Leaf node created with vote=0 at depth=3\n",
      "Creating node with attribute 'age_group' at depth=3\n",
      "{}\n",
      "Leaf node created with vote=0 at depth=4\n",
      "Creating node with attribute 'Pclass' at depth=4\n",
      "{}\n",
      "Leaf node created with vote=0 at depth=5\n",
      "Creating node with attribute 'Pclass' at depth=5\n",
      "{}\n",
      "Leaf node created with vote=0 at depth=6\n",
      "{1: 6}\n",
      "Leaf node created with vote=1 at depth=6\n",
      "{0: 444, 1: 268}\n",
      "Creating node with attribute 'Pclass' at depth=0\n",
      "{}\n",
      "Leaf node created with vote=0 at depth=1\n",
      "Creating node with attribute 'fare_type' at depth=1\n",
      "Creating node with attribute 'age_group' at depth=2\n",
      "{}\n",
      "Leaf node created with vote=0 at depth=3\n",
      "Creating node with attribute 'Sex_male' at depth=3\n",
      "Creating node with attribute 'Embarked_C' at depth=4\n",
      "Creating node with attribute 'Pclass' at depth=5\n",
      "{}\n",
      "Leaf node created with vote=0 at depth=6\n",
      "Creating node with attribute 'Pclass' at depth=6\n",
      "{}\n",
      "Leaf node created with vote=0 at depth=7\n",
      "{1: 3}\n",
      "Leaf node created with vote=1 at depth=7\n",
      "Creating node with attribute 'SibSp' at depth=5\n",
      "Creating node with attribute 'Pclass' at depth=6\n",
      "{}\n",
      "Leaf node created with vote=0 at depth=7\n",
      "{0: 1, 1: 1}\n",
      "Leaf node created with vote=0 at depth=7\n",
      "Creating node with attribute 'Pclass' at depth=6\n",
      "{}\n",
      "Leaf node created with vote=0 at depth=7\n",
      "{1: 1}\n",
      "Leaf node created with vote=1 at depth=7\n",
      "Creating node with attribute 'Parch' at depth=4\n",
      "Creating node with attribute 'has_cabin' at depth=5\n",
      "Creating node with attribute 'Pclass' at depth=6\n",
      "{}\n",
      "Leaf node created with vote=0 at depth=7\n",
      "{0: 2, 1: 2}\n",
      "Leaf node created with vote=0 at depth=7\n",
      "Creating node with attribute 'Embarked_C' at depth=6\n",
      "{0: 10, 1: 6}\n",
      "Leaf node created with vote=0 at depth=7\n",
      "{0: 3, 1: 2}\n",
      "Leaf node created with vote=0 at depth=7\n",
      "Creating node with attribute 'Pclass' at depth=5\n",
      "{}\n",
      "Leaf node created with vote=0 at depth=6\n",
      "Creating node with attribute 'Pclass' at depth=6\n",
      "{}\n",
      "Leaf node created with vote=0 at depth=7\n",
      "{0: 1}\n",
      "Leaf node created with vote=0 at depth=7\n",
      "Creating node with attribute 'FamilySize' at depth=2\n",
      "{}\n",
      "Leaf node created with vote=0 at depth=3\n",
      "Creating node with attribute 'age_group' at depth=3\n",
      "{}\n",
      "Leaf node created with vote=0 at depth=4\n",
      "Creating node with attribute 'Pclass' at depth=4\n",
      "{}\n",
      "Leaf node created with vote=0 at depth=5\n",
      "Creating node with attribute 'Pclass' at depth=5\n",
      "{}\n",
      "Leaf node created with vote=0 at depth=6\n",
      "Creating node with attribute 'Pclass' at depth=6\n",
      "{}\n",
      "Leaf node created with vote=0 at depth=7\n",
      "{1: 6}\n",
      "Leaf node created with vote=1 at depth=7\n",
      "{0: 444, 1: 268}\n",
      "Creating node with attribute 'Pclass' at depth=0\n",
      "{}\n",
      "Leaf node created with vote=0 at depth=1\n",
      "Creating node with attribute 'fare_type' at depth=1\n",
      "Creating node with attribute 'age_group' at depth=2\n",
      "{}\n",
      "Leaf node created with vote=0 at depth=3\n",
      "Creating node with attribute 'Sex_male' at depth=3\n",
      "Creating node with attribute 'Embarked_C' at depth=4\n",
      "Creating node with attribute 'Pclass' at depth=5\n",
      "{}\n",
      "Leaf node created with vote=0 at depth=6\n",
      "Creating node with attribute 'Pclass' at depth=6\n",
      "{}\n",
      "Leaf node created with vote=0 at depth=7\n",
      "Creating node with attribute 'Pclass' at depth=7\n",
      "{}\n",
      "Leaf node created with vote=0 at depth=8\n",
      "{1: 3}\n",
      "Leaf node created with vote=1 at depth=8\n",
      "Creating node with attribute 'SibSp' at depth=5\n",
      "Creating node with attribute 'Pclass' at depth=6\n",
      "{}\n",
      "Leaf node created with vote=0 at depth=7\n",
      "Creating node with attribute 'Pclass' at depth=7\n",
      "{}\n",
      "Leaf node created with vote=0 at depth=8\n",
      "{0: 1, 1: 1}\n",
      "Leaf node created with vote=0 at depth=8\n",
      "Creating node with attribute 'Pclass' at depth=6\n",
      "{}\n",
      "Leaf node created with vote=0 at depth=7\n",
      "Creating node with attribute 'Pclass' at depth=7\n",
      "{}\n",
      "Leaf node created with vote=0 at depth=8\n",
      "{1: 1}\n",
      "Leaf node created with vote=1 at depth=8\n",
      "Creating node with attribute 'Parch' at depth=4\n",
      "Creating node with attribute 'has_cabin' at depth=5\n",
      "Creating node with attribute 'Pclass' at depth=6\n",
      "{}\n",
      "Leaf node created with vote=0 at depth=7\n",
      "Creating node with attribute 'Pclass' at depth=7\n",
      "{}\n",
      "Leaf node created with vote=0 at depth=8\n",
      "{0: 2, 1: 2}\n",
      "Leaf node created with vote=0 at depth=8\n",
      "Creating node with attribute 'Embarked_C' at depth=6\n",
      "Creating node with attribute 'Pclass' at depth=7\n",
      "{}\n",
      "Leaf node created with vote=0 at depth=8\n",
      "{0: 10, 1: 6}\n",
      "Leaf node created with vote=0 at depth=8\n",
      "Creating node with attribute 'Pclass' at depth=7\n",
      "{}\n",
      "Leaf node created with vote=0 at depth=8\n",
      "{0: 3, 1: 2}\n",
      "Leaf node created with vote=0 at depth=8\n",
      "Creating node with attribute 'Pclass' at depth=5\n",
      "{}\n",
      "Leaf node created with vote=0 at depth=6\n",
      "Creating node with attribute 'Pclass' at depth=6\n",
      "{}\n",
      "Leaf node created with vote=0 at depth=7\n",
      "Creating node with attribute 'Pclass' at depth=7\n",
      "{}\n",
      "Leaf node created with vote=0 at depth=8\n",
      "{0: 1}\n",
      "Leaf node created with vote=0 at depth=8\n",
      "Creating node with attribute 'FamilySize' at depth=2\n",
      "{}\n",
      "Leaf node created with vote=0 at depth=3\n",
      "Creating node with attribute 'age_group' at depth=3\n",
      "{}\n",
      "Leaf node created with vote=0 at depth=4\n",
      "Creating node with attribute 'Pclass' at depth=4\n",
      "{}\n",
      "Leaf node created with vote=0 at depth=5\n",
      "Creating node with attribute 'Pclass' at depth=5\n",
      "{}\n",
      "Leaf node created with vote=0 at depth=6\n",
      "Creating node with attribute 'Pclass' at depth=6\n",
      "{}\n",
      "Leaf node created with vote=0 at depth=7\n",
      "Creating node with attribute 'Pclass' at depth=7\n",
      "{}\n",
      "Leaf node created with vote=0 at depth=8\n",
      "{1: 6}\n",
      "Leaf node created with vote=1 at depth=8\n",
      "{0: 444, 1: 268}\n",
      "Creating node with attribute 'Pclass' at depth=0\n",
      "{}\n",
      "Leaf node created with vote=0 at depth=1\n",
      "Creating node with attribute 'fare_type' at depth=1\n",
      "Creating node with attribute 'age_group' at depth=2\n",
      "{}\n",
      "Leaf node created with vote=0 at depth=3\n",
      "Creating node with attribute 'Sex_male' at depth=3\n",
      "Creating node with attribute 'Embarked_C' at depth=4\n",
      "Creating node with attribute 'Pclass' at depth=5\n",
      "{}\n",
      "Leaf node created with vote=0 at depth=6\n",
      "Creating node with attribute 'Pclass' at depth=6\n",
      "{}\n",
      "Leaf node created with vote=0 at depth=7\n",
      "Creating node with attribute 'Pclass' at depth=7\n",
      "{}\n",
      "Leaf node created with vote=0 at depth=8\n",
      "Creating node with attribute 'Pclass' at depth=8\n",
      "{}\n",
      "Leaf node created with vote=0 at depth=9\n",
      "{1: 3}\n",
      "Leaf node created with vote=1 at depth=9\n",
      "Creating node with attribute 'SibSp' at depth=5\n",
      "Creating node with attribute 'Pclass' at depth=6\n",
      "{}\n",
      "Leaf node created with vote=0 at depth=7\n",
      "Creating node with attribute 'Pclass' at depth=7\n",
      "{}\n",
      "Leaf node created with vote=0 at depth=8\n",
      "Creating node with attribute 'Pclass' at depth=8\n",
      "{}\n",
      "Leaf node created with vote=0 at depth=9\n",
      "{0: 1, 1: 1}\n",
      "Leaf node created with vote=0 at depth=9\n",
      "Creating node with attribute 'Pclass' at depth=6\n",
      "{}\n",
      "Leaf node created with vote=0 at depth=7\n",
      "Creating node with attribute 'Pclass' at depth=7\n",
      "{}\n",
      "Leaf node created with vote=0 at depth=8\n",
      "Creating node with attribute 'Pclass' at depth=8\n",
      "{}\n",
      "Leaf node created with vote=0 at depth=9\n",
      "{1: 1}\n",
      "Leaf node created with vote=1 at depth=9\n",
      "Creating node with attribute 'Parch' at depth=4\n",
      "Creating node with attribute 'has_cabin' at depth=5\n",
      "Creating node with attribute 'Pclass' at depth=6\n",
      "{}\n",
      "Leaf node created with vote=0 at depth=7\n",
      "Creating node with attribute 'Pclass' at depth=7\n",
      "{}\n",
      "Leaf node created with vote=0 at depth=8\n",
      "Creating node with attribute 'Pclass' at depth=8\n",
      "{}\n",
      "Leaf node created with vote=0 at depth=9\n",
      "{0: 2, 1: 2}\n",
      "Leaf node created with vote=0 at depth=9\n",
      "Creating node with attribute 'Embarked_C' at depth=6\n",
      "Creating node with attribute 'Pclass' at depth=7\n",
      "{}\n",
      "Leaf node created with vote=0 at depth=8\n",
      "Creating node with attribute 'Pclass' at depth=8\n",
      "{}\n",
      "Leaf node created with vote=0 at depth=9\n",
      "{0: 10, 1: 6}\n",
      "Leaf node created with vote=0 at depth=9\n",
      "Creating node with attribute 'Pclass' at depth=7\n",
      "{}\n",
      "Leaf node created with vote=0 at depth=8\n",
      "Creating node with attribute 'Pclass' at depth=8\n",
      "{}\n",
      "Leaf node created with vote=0 at depth=9\n",
      "{0: 3, 1: 2}\n",
      "Leaf node created with vote=0 at depth=9\n",
      "Creating node with attribute 'Pclass' at depth=5\n",
      "{}\n",
      "Leaf node created with vote=0 at depth=6\n",
      "Creating node with attribute 'Pclass' at depth=6\n",
      "{}\n",
      "Leaf node created with vote=0 at depth=7\n",
      "Creating node with attribute 'Pclass' at depth=7\n",
      "{}\n",
      "Leaf node created with vote=0 at depth=8\n",
      "Creating node with attribute 'Pclass' at depth=8\n",
      "{}\n",
      "Leaf node created with vote=0 at depth=9\n",
      "{0: 1}\n",
      "Leaf node created with vote=0 at depth=9\n",
      "Creating node with attribute 'FamilySize' at depth=2\n",
      "{}\n",
      "Leaf node created with vote=0 at depth=3\n",
      "Creating node with attribute 'age_group' at depth=3\n",
      "{}\n",
      "Leaf node created with vote=0 at depth=4\n",
      "Creating node with attribute 'Pclass' at depth=4\n",
      "{}\n",
      "Leaf node created with vote=0 at depth=5\n",
      "Creating node with attribute 'Pclass' at depth=5\n",
      "{}\n",
      "Leaf node created with vote=0 at depth=6\n",
      "Creating node with attribute 'Pclass' at depth=6\n",
      "{}\n",
      "Leaf node created with vote=0 at depth=7\n",
      "Creating node with attribute 'Pclass' at depth=7\n",
      "{}\n",
      "Leaf node created with vote=0 at depth=8\n",
      "Creating node with attribute 'Pclass' at depth=8\n",
      "{}\n",
      "Leaf node created with vote=0 at depth=9\n",
      "{1: 6}\n",
      "Leaf node created with vote=1 at depth=9\n",
      "Best Depth: 1, Best Accuracy: 0.7039106145251397\n"
     ]
    }
   ],
   "source": [
    "# The range of 'max_depth' values to explore\n",
    "max_depths = range(1, 10) # arbritrary range\n",
    "best_accuracy = 0\n",
    "best_depth = 0\n",
    "\n",
    "for depth in max_depths:\n",
    "    # Initialize and train the SimpleDecisionTree with the current 'max_depth'\n",
    "    tree = SimpleDecisionTree(max_depth=depth, data=X_train.assign(Survived=y_train), target_name='Survived')\n",
    "    tree.train()\n",
    "\n",
    "    # Assuming a 'predict' method is implemented to make predictions with the trained tree\n",
    "    predictions = predict_batch(tree, X_test)\n",
    "    accuracy = (predictions == y_test).mean()\n",
    "\n",
    "    if accuracy > best_accuracy:\n",
    "        best_accuracy = accuracy\n",
    "        best_depth = depth\n",
    "\n",
    "print(f\"Best Depth: {best_depth}, Best Accuracy: {best_accuracy}\")"
   ]
  },
  {
   "cell_type": "markdown",
   "metadata": {},
   "source": [
    "Notes on Best Depth of 1:\n",
    "\n",
    "- Presence of Empty Subsets: The {} in the output indicates that the tree is encountering situations where, after a split, one side of the split ends up with no data. This is often due to a very specific or 'perfect' split at that node, which isn't ideal for generalization. The handling of these cases by assigning a default class (vote) ensures the model can still make predictions even when the data for a particular path is not available but it is probably not ideal.\n",
    "\n",
    "- Dominance of Certain Features: The fact that the model consistently chooses to split on Pclass, fare_type, and age_group first suggests these features are deemed very informative based on the model's criteria for selecting splits. However, the repeated selection of these features, and the model's performance peaking with just one split, indicates a potential over-reliance on a small subset of features.\n",
    "\n",
    "- Limited Model Complexity: Your model achieving the best accuracy at a depth of 1 suggests it's finding most of the predictive power in the initial split and not gaining additional accuracy from further splits. This could mean the model is too simplistic to capture more complex patterns in the data or that the additional splits introduce noise rather than useful information.\n",
    "\n"
   ]
  },
  {
   "cell_type": "markdown",
   "metadata": {},
   "source": [
    "### Testing Accuracy of Non-local Decision Tree"
   ]
  },
  {
   "cell_type": "code",
   "execution_count": 1408,
   "metadata": {},
   "outputs": [
    {
     "name": "stdout",
     "output_type": "stream",
     "text": [
      "Scikit-learn Model Accuracy: 0.7877094972067039\n"
     ]
    }
   ],
   "source": [
    "from sklearn.tree import DecisionTreeClassifier\n",
    "from sklearn.metrics import accuracy_score\n",
    "\n",
    "# Initialize the scikit-learn decision tree model\n",
    "sklearn_tree = DecisionTreeClassifier(max_depth=10, random_state=42)\n",
    "\n",
    "# Train the model\n",
    "sklearn_tree.fit(X_train, y_train)\n",
    "\n",
    "# Make predictions\n",
    "sklearn_predictions = sklearn_tree.predict(X_test)\n",
    "\n",
    "# Calculate accuracy\n",
    "sklearn_model_accuracy = accuracy_score(y_test, sklearn_predictions)\n",
    "print(f\"Scikit-learn Model Accuracy: {sklearn_model_accuracy}\")"
   ]
  },
  {
   "cell_type": "markdown",
   "metadata": {},
   "source": [
    "### Testing test data on local decision tree"
   ]
  },
  {
   "cell_type": "code",
   "execution_count": 1409,
   "metadata": {},
   "outputs": [
    {
     "name": "stdout",
     "output_type": "stream",
     "text": [
      "{0: 444, 1: 268}\n",
      "Creating node with attribute 'Pclass' at depth=0\n",
      "{}\n",
      "Leaf node created with vote=0 at depth=1\n",
      "{0: 64, 1: 99}\n",
      "Leaf node created with vote=1 at depth=1\n"
     ]
    }
   ],
   "source": [
    "# Retrain the best model on the full training set if you haven't already\n",
    "best_tree = SimpleDecisionTree(max_depth=1, data=X_train.assign(Survived=y_train), target_name='Survived')\n",
    "best_tree.train()\n",
    "\n",
    "X = test_Data_DF.drop(['PassengerId', 'Name', 'Ticket', 'Title', 'Age','Fare'], axis=1)\n",
    "\n",
    "# Generate predictions for the test dataset\n",
    "test_predictions = predict_batch(best_tree, test_Data_DF)\n",
    "\n",
    "submission2 = pd.DataFrame({\n",
    "    \"PassengerId\": test_Data_DF[\"PassengerId\"],\n",
    "    \"Survived\": test_predictions\n",
    "})\n",
    "\n",
    "submission2.to_csv('./Submissions/submission2.csv', index=False)\n"
   ]
  },
  {
   "cell_type": "markdown",
   "metadata": {},
   "source": [
    "![Alt text](image-1.png)"
   ]
  },
  {
   "cell_type": "markdown",
   "metadata": {},
   "source": [
    "Decent Score, significantly better than the first attempt."
   ]
  },
  {
   "cell_type": "markdown",
   "metadata": {},
   "source": [
    "## Naive Bayes and Dimensionality Reduction"
   ]
  },
  {
   "cell_type": "markdown",
   "metadata": {},
   "source": [
    "c) Try reducing the dimension of the dataset and create a Naive Bayes model. Evaluate this model."
   ]
  },
  {
   "cell_type": "markdown",
   "metadata": {},
   "source": [
    "For dimensionality reduction, Singular Value Decomposition (SVD) is one option, but since the data is non spares Principal Component Analysis (PCA) is more commonly used. To start we need to look at the cumulative explained variance ratio to see how much varience to keep."
   ]
  },
  {
   "cell_type": "code",
   "execution_count": 1410,
   "metadata": {},
   "outputs": [
    {
     "data": {
      "image/png": "[encoded data removed]",
      "text/plain": [
       "<Figure size 800x500 with 1 Axes>"
      ]
     },
     "metadata": {},
     "output_type": "display_data"
    }
   ],
   "source": [
    "import matplotlib.pyplot as plt\n",
    "from sklearn.decomposition import PCA\n",
    "\n",
    "# Fit PCA on the training data\n",
    "pca = PCA().fit(X_train)\n",
    "\n",
    "# Calculate the cumulative sum of explained variances\n",
    "cumulative_explained_variance = np.cumsum(pca.explained_variance_ratio_)\n",
    "\n",
    "# Plot the cumulative explained variance\n",
    "plt.figure(figsize=(8, 5))\n",
    "plt.plot(cumulative_explained_variance)\n",
    "plt.xlabel('Number of Components')\n",
    "plt.ylabel('Cumulative Explained Variance')\n",
    "plt.title('Cumulative Explained Variance by PCA Components')\n",
    "plt.grid(True)\n",
    "\n",
    "# This line draws a dashed line at 0.95 which is the threshold for the explained variance\n",
    "plt.axhline(y=0.95, linestyle='--', color='red', label='95% Explained Variance')\n",
    "plt.legend(loc='best')\n",
    "\n",
    "plt.show()"
   ]
  },
  {
   "cell_type": "markdown",
   "metadata": {},
   "source": [
    "Note on Principal Components:\n",
    "\n",
    "- A principal component in the context of PCA (Principal Component Analysis) is a linear combination of the original variables. Principal components are derived in such a way that the first principal component explains the largest possible variance in the dataset. Each subsequent component explains the maximum remaining variance while being orthogonal (at a right angle in n-dimensional space) to the preceding components."
   ]
  },
  {
   "cell_type": "code",
   "execution_count": 1411,
   "metadata": {},
   "outputs": [
    {
     "name": "stdout",
     "output_type": "stream",
     "text": [
      "Model Accuracy: 0.7262569832402235\n",
      "              precision    recall  f1-score   support\n",
      "\n",
      "           0       0.74      0.82      0.78       105\n",
      "           1       0.70      0.59      0.64        74\n",
      "\n",
      "    accuracy                           0.73       179\n",
      "   macro avg       0.72      0.71      0.71       179\n",
      "weighted avg       0.72      0.73      0.72       179\n",
      "\n"
     ]
    }
   ],
   "source": [
    "from sklearn.naive_bayes import GaussianNB\n",
    "from sklearn.metrics import accuracy_score, classification_report\n",
    "\n",
    "# Initialize PCA with 6 components\n",
    "pca = PCA(n_components=6)\n",
    "\n",
    "# Fit PCA on the training set and transform both training and testing sets\n",
    "X_train_pca = pca.fit_transform(X_train)\n",
    "X_test_pca = pca.transform(X_test)\n",
    "\n",
    "# Create Naive Bayes model\n",
    "nb_model = GaussianNB()\n",
    "\n",
    "# Train the model\n",
    "nb_model.fit(X_train_pca, y_train)\n",
    "\n",
    "# Predict outcomes on testing set\n",
    "y_pred = nb_model.predict(X_test_pca)\n",
    "\n",
    "# Evaluate the model\n",
    "accuracy = accuracy_score(y_test, y_pred)\n",
    "report = classification_report(y_test, y_pred)\n",
    "\n",
    "print(f\"Model Accuracy: {accuracy}\")\n",
    "print(report)"
   ]
  },
  {
   "cell_type": "markdown",
   "metadata": {},
   "source": [
    "**Model Accuracy**: Approximately 72.63%, indicating that around 72.63% of predictions match the actual values. \n",
    "\n",
    "**Precision for class 0**: About 74%, which means that when the model predicts class 0, it is correct 74% of the time.\n",
    "\n",
    "**Recall for class 0**: About 82%, indicating that the model correctly identifies 82% of all actual class 0 instances.\n",
    "\n",
    "**F1-score for class 0**: Approximately 78%, which is a harmonic mean of precision and recall and is a measure of the model's accuracy. A higher F1-score indicates better performance.\n",
    "\n",
    "**Precision for class 1**: Around 70%, meaning that when the model predicts class 1, it is correct 70% of the time.\n",
    "\n",
    "**Recall for class 1**: Roughly 59%, showing that the model correctly identifies 59% of all actual class 1 instances.\n",
    "\n",
    "**F1-score for class 1**: Approximately 64%, another indicator of accuracy.\n",
    "\n",
    "The **support** for class 0 and 1 indicates the number of true instances for each class in the dataset (105 for class 0 and 74 for class 1).\n",
    "\n",
    "The **macro average** will compute the metric independently for each class and then take the average (hence treating all classes equally), resulting in 72% for precision, 71% for recall, and 71% for the F1-score.\n",
    "\n",
    "The **weighted average** will account for class imbalance by computing the metrics for each label, and find their average weighted by support (the number of true instances for each label), which is reflected in the 72% for precision, 73% for recall, and 72% for the F1-score."
   ]
  },
  {
   "cell_type": "code",
   "execution_count": 1412,
   "metadata": {},
   "outputs": [],
   "source": [
    "X = test_Data_DF.drop(['PassengerId', 'Name', 'Ticket', 'Title', 'Age','Fare'], axis=1)\n",
    "\n",
    "X_test_reduced = pca.transform(X)\n",
    "predictions = nb_model.predict(X_test_reduced)\n",
    "\n",
    "submission_df = pd.DataFrame({\n",
    "    'PassengerId': test_Data_DF['PassengerId'], \n",
    "    'Survived': predictions\n",
    "})\n",
    "\n",
    "submission_df.to_csv('./Submissions/submission3.csv', index=False)"
   ]
  },
  {
   "cell_type": "markdown",
   "metadata": {},
   "source": [
    "![Alt text](image-2.png)"
   ]
  },
  {
   "cell_type": "markdown",
   "metadata": {},
   "source": [
    "About a 4% performance increase!!"
   ]
  },
  {
   "cell_type": "markdown",
   "metadata": {},
   "source": [
    "## An ensemble classifier using a combination of KNN, Decision Trees, and Naive Bayes models"
   ]
  },
  {
   "cell_type": "markdown",
   "metadata": {},
   "source": [
    "d) Create an ensemble classifier using a combination of KNN, Decision Trees, and Naive Bayes models. Evaluate this classifier."
   ]
  },
  {
   "cell_type": "markdown",
   "metadata": {},
   "source": [
    "Ensemble models are a technique in machine learning where multiple models, often referred to as \"weak learners,\" are strategically combined to create a \"strong learner\" that provides better performance than any of the individual models alone. The idea is that by combining the predictions from multiple models, the ensemble can account for individual model weaknesses and capitalize on their strengths."
   ]
  },
  {
   "cell_type": "markdown",
   "metadata": {},
   "source": [
    "We are going to use a VotingClassifier that is a type of ensemble model where the predictions of each base model are combined through voting. There are two types of voting:\n",
    "\n",
    "- Hard Voting: In hard voting, each model gets one vote, and the prediction with the majority of votes becomes the ensemble's prediction.\n",
    "\n",
    "- Soft Voting: If all the classifiers are able to estimate class probabilities (i.e., they have a predict_proba method), then you can predict the class with the highest class probability, averaged over all the individual classifiers.\n",
    "\n",
    "We are going to use hard voting."
   ]
  },
  {
   "cell_type": "code",
   "execution_count": 1413,
   "metadata": {},
   "outputs": [
    {
     "name": "stdout",
     "output_type": "stream",
     "text": [
      "Ensemble Model Accuracy: 1.0\n"
     ]
    }
   ],
   "source": [
    "from sklearn.ensemble import VotingClassifier\n",
    "from sklearn.neighbors import KNeighborsClassifier\n",
    "\n",
    "# Initialize the individual models with their respective best parameters\n",
    "knn_model = KNeighborsClassifier(n_neighbors=9)  # 9 was found to be the best in the previous notebook\n",
    "dt_model = DecisionTreeClassifier(max_depth=1)  # Using the standard model as im not sure how to integrate my one in\n",
    "nb_model = GaussianNB()\n",
    "\n",
    "# Creating a VotingClassifier with the individual models\n",
    "ensemble_model = VotingClassifier(estimators=[\n",
    "    ('knn', knn_model),\n",
    "    ('dt', dt_model),\n",
    "    ('nb', nb_model)\n",
    "], voting='hard')  # 'hard' for majority voting\n",
    "\n",
    "# Fit the ensemble classifier to the training data\n",
    "ensemble_model.fit(X_train, y_train)\n",
    "\n",
    "# Predict on the test set\n",
    "y_pred_test = ensemble_model.predict(X_test)\n",
    "\n",
    "# Evaluate the ensemble classifier on the validation set\n",
    "ensemble_accuracy = ensemble_model.score(X_test, y_pred_test)\n",
    "print(f\"Ensemble Model Accuracy: {ensemble_accuracy}\")\n"
   ]
  },
  {
   "cell_type": "code",
   "execution_count": 1414,
   "metadata": {},
   "outputs": [
    {
     "name": "stdout",
     "output_type": "stream",
     "text": [
      "Accuracy: 0.7932960893854749\n",
      "              precision    recall  f1-score   support\n",
      "\n",
      "           0       0.81      0.85      0.83       105\n",
      "           1       0.77      0.72      0.74        74\n",
      "\n",
      "    accuracy                           0.79       179\n",
      "   macro avg       0.79      0.78      0.78       179\n",
      "weighted avg       0.79      0.79      0.79       179\n",
      "\n",
      "[[89 16]\n",
      " [21 53]]\n"
     ]
    }
   ],
   "source": [
    "from sklearn.metrics import confusion_matrix\n",
    "\n",
    "# Calculate the accuracy\n",
    "accuracy = accuracy_score(y_test, y_pred_test)\n",
    "print(f'Accuracy: {accuracy}')\n",
    "\n",
    "# Generate a classification report\n",
    "report = classification_report(y_test, y_pred_test)\n",
    "print(report)\n",
    "\n",
    "# Confusion matrix\n",
    "cm = confusion_matrix(y_test, y_pred_test)\n",
    "print(cm)\n"
   ]
  },
  {
   "cell_type": "code",
   "execution_count": 1415,
   "metadata": {},
   "outputs": [],
   "source": [
    "X = test_Data_DF.drop(['PassengerId', 'Name', 'Ticket', 'Title', 'Age','Fare'], axis=1)\n",
    "\n",
    "# Make predictions using the fitted ensemble model\n",
    "test_predictions = ensemble_model.predict(X)\n",
    "\n",
    "# Create the submission DataFrame\n",
    "submission = pd.DataFrame({\n",
    "    \"PassengerId\": test_Data_DF[\"PassengerId\"],  \n",
    "    \"Survived\": test_predictions\n",
    "})\n",
    "\n",
    "# Convert to CSV for submission\n",
    "\n",
    "submission.to_csv('./Submissions/submission_ensemble.csv', index=False)\n"
   ]
  },
  {
   "cell_type": "markdown",
   "metadata": {},
   "source": [
    "![Alt text](image-3.png)"
   ]
  },
  {
   "cell_type": "markdown",
   "metadata": {},
   "source": [
    "Another 4% increase, not bad. The accuracy on Kaggle (75.598) is a bit lower than the validation accuracy (around 79%). This could indicate that the model might be slightly overfitting to the training data or that the train and test distributions are not identical."
   ]
  }
 ],
 "metadata": {
  "kernelspec": {
   "display_name": "base",
   "language": "python",
   "name": "python3"
  },
  "language_info": {
   "codemirror_mode": {
    "name": "ipython",
    "version": 3
   },
   "file_extension": ".py",
   "mimetype": "text/x-python",
   "name": "python",
   "nbconvert_exporter": "python",
   "pygments_lexer": "ipython3",
   "version": "3.11.4"
  },
  "orig_nbformat": 4
 },
 "nbformat": 4,
 "nbformat_minor": 2
}
